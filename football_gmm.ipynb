{
 "cells": [
  {
   "cell_type": "code",
   "execution_count": 1,
   "metadata": {},
   "outputs": [],
   "source": [
    "\n",
    "import numpy as np\n",
    "import pandas as pd\n",
    "%matplotlib inline\n",
    "import matplotlib.pyplot as plt\n",
    "import seaborn as sns; sns.set(style='white')\n",
    "%matplotlib inline\n",
    "from sklearn import decomposition\n",
    "from sklearn import datasets\n",
    "from mpl_toolkits.mplot3d import Axes3D\n",
    "from sklearn.preprocessing import StandardScaler\n",
    "from sklearn.preprocessing import MinMaxScaler\n",
    "from sklearn.tree import DecisionTreeClassifier\n",
    "from sklearn.linear_model import LinearRegression\n",
    "from sklearn.model_selection import train_test_split\n",
    "from sklearn.metrics import accuracy_score, roc_auc_score\n",
    "from sklearn.manifold import TSNE\n",
    "from sklearn.cluster import KMeans\n",
    "from sklearn.decomposition import PCA\n",
    "from sklearn.mixture import GaussianMixture\n",
    "from matplotlib import pyplot as plt\n",
    "import seaborn as sns\n",
    "sns.set()\n",
    "from sklearn.metrics import silhouette_samples, silhouette_score\n",
    "import matplotlib.pyplot as plt\n",
    "import matplotlib.cm as cm\n",
    "pd.options.display.max_rows = 999\n",
    "pd.options.display.max_columns = 999\n",
    "from gap_statistic import OptimalK\n",
    "from datetime import datetime\n",
    "from datetime import date\n"
   ]
  },
  {
   "cell_type": "code",
   "execution_count": 2,
   "metadata": {},
   "outputs": [],
   "source": [
    "data= pd.read_excel('/Users/aleksandr/Desktop/rpl_for_model.xlsx')\n",
    "data['shots on target per 90'] = data['Shots per 90'] * data['Shots on target %']\n",
    "data['Dribbles succ. per 90'] = data['Dribbles per 90'] * data['Dribbles succ. %']\n",
    "data['Def duels won per 90'] = data['Def duels per 90'] * data['Def duels won %']\n",
    "data['Aerial duels won per 90'] = data['Aerial duels per 90'] * data['Aerial duels won %']\n",
    "data['Tackle succ per 90'] = data['Tackles per 90'] * data['Tackle succ. %']\n",
    "data['Smt passes acc. per 90'] = data['Smt passes per 90'] * data['Smt passes acc. %']\n",
    "data['Final 3rd passes acc per90'] = data['Final 3rd passes per 90'] * data['Final 3rd passes acc. %']\n",
    "data['Thru passes acc per 90'] = data['Thru passes per 90'] * data['Thru passes acc. %']\n",
    "data['Deep completed passes acc per 90'] = data['Deep completed passes per 90'] * data['Deep completed passes acc. %']\n",
    "data['Deep completed crosses acc per 90'] = data['Deep completed crosses per 90'] * data['Deep completed crosses acc. %']\n",
    "data['Passes acc per 90'] = data['Passes per 90'] * data['Passes acc. %']\n",
    "data['Fwd passes acc per 90'] = data['Fwd passes per 90'] * data['Fwd passes acc. %']\n",
    "data['Back passes acc'] = data['Back passes per 90'] * data['Back passes acc. %']\n",
    "data['Lat passes acc'] = data['Lat passes per 90'] * data['Lat passes acc. %']\n",
    "data['Lng passes acc'] = data['Lng passes per 90'] * data['Lng passes acc. %']\n",
    "\n",
    "\n",
    "data=data.drop(['xG.1','xA per 90.1', 'xA.1'],axis=1)\n",
    "data=data[data['Position']!='GK']\n",
    "data=data[data['Market value']!=0]\n",
    "player=data['Player']\n",
    "target=data['Market value']\n",
    "data=data.drop(['Player', 'Market value', 'Team', 'Matches played', 'Minutes played', 'On loan'],axis=1)\n",
    "columns_names = []\n",
    "for col in data.columns:\n",
    "    columns_names.append(col)\n",
    "    \n",
    "cols_no_mean=['Position','Age', 'Contract expires', 'Birth country', 'Passport country', 'Foot', 'Height']\n",
    "columns_names_mean= [x for x in columns_names if x not in cols_no_mean]\n",
    "for i in data[columns_names_mean]:\n",
    "    data[i] = data[i].fillna(data[i].mean(), inplace=False)\n",
    "for i in data[cols_no_mean]:\n",
    "    data[i] = data[i].fillna(0)    "
   ]
  },
  {
   "cell_type": "code",
   "execution_count": 3,
   "metadata": {},
   "outputs": [],
   "source": [
    "network_metrics = data.iloc[:,79:103]\n",
    "#scaler = StandardScaler()\n",
    "#scaler.fit(network_metrics)\n",
    "#network_metrics_scaled = scaler.transform(network_metrics)\n",
    "scaler = MinMaxScaler()  \n",
    "scaler.fit(network_metrics)\n",
    "data_scaled= scaler.transform(network_metrics)"
   ]
  },
  {
   "cell_type": "code",
   "execution_count": 4,
   "metadata": {},
   "outputs": [
    {
     "data": {
      "image/png": "[encoded data removed]",
      "text/plain": [
       "<Figure size 432x288 with 1 Axes>"
      ]
     },
     "metadata": {
      "needs_background": "light"
     },
     "output_type": "display_data"
    }
   ],
   "source": [
    "n_components = np.arange(1, 30)\n",
    "models = [GaussianMixture(n, covariance_type='full', random_state=0).fit(data_scaled) for n in n_components]\n",
    "plt.plot(n_components, [m.bic(data_scaled) for m in models], label='BIC')\n",
    "plt.plot(n_components, [m.aic(data_scaled) for m in models], label='AIC')\n",
    "plt.legend(loc='best')\n",
    "plt.xlabel('n_components');"
   ]
  },
  {
   "cell_type": "code",
   "execution_count": 5,
   "metadata": {},
   "outputs": [
    {
     "data": {
      "text/plain": [
       "GaussianMixture(covariance_type='full', init_params='kmeans', max_iter=100,\n",
       "        means_init=None, n_components=20, n_init=1, precisions_init=None,\n",
       "        random_state=None, reg_covar=1e-06, tol=0.001, verbose=0,\n",
       "        verbose_interval=10, warm_start=False, weights_init=None)"
      ]
     },
     "execution_count": 5,
     "metadata": {},
     "output_type": "execute_result"
    }
   ],
   "source": [
    "gmm = GaussianMixture(n_components=20)\n",
    "gmm.fit(data_scaled)"
   ]
  },
  {
   "cell_type": "code",
   "execution_count": 36,
   "metadata": {},
   "outputs": [
    {
     "data": {
      "text/plain": [
       "GaussianMixture(covariance_type='full', init_params='kmeans', max_iter=100,\n",
       "        means_init=None, n_components=7, n_init=1, precisions_init=None,\n",
       "        random_state=None, reg_covar=1e-06, tol=0.001, verbose=0,\n",
       "        verbose_interval=10, warm_start=False, weights_init=None)"
      ]
     },
     "execution_count": 36,
     "metadata": {},
     "output_type": "execute_result"
    }
   ],
   "source": [
    "gmm = GaussianMixture(n_components=7)\n",
    "gmm.fit(data_scaled)"
   ]
  },
  {
   "cell_type": "code",
   "execution_count": 37,
   "metadata": {},
   "outputs": [],
   "source": [
    "labels = gmm.predict_proba(data_scaled)"
   ]
  },
  {
   "cell_type": "code",
   "execution_count": 41,
   "metadata": {},
   "outputs": [],
   "source": [
    "labels=pd.DataFrame(labels)"
   ]
  },
  {
   "cell_type": "code",
   "execution_count": 46,
   "metadata": {},
   "outputs": [
    {
     "data": {
      "text/plain": [
       "0    7.900714e-147\n",
       "1     6.801919e-30\n",
       "2     1.344421e-29\n",
       "3     0.000000e+00\n",
       "4     3.752550e-84\n",
       "5     0.000000e+00\n",
       "6     1.000000e+00\n",
       "Name: 0, dtype: float64"
      ]
     },
     "execution_count": 46,
     "metadata": {},
     "output_type": "execute_result"
    }
   ],
   "source": [
    "labels.iloc[0,:]\n"
   ]
  },
  {
   "cell_type": "code",
   "execution_count": null,
   "metadata": {},
   "outputs": [],
   "source": []
  }
 ],
 "metadata": {
  "kernelspec": {
   "display_name": "Python 3",
   "language": "python",
   "name": "python3"
  },
  "language_info": {
   "codemirror_mode": {
    "name": "ipython",
    "version": 3
   },
   "file_extension": ".py",
   "mimetype": "text/x-python",
   "name": "python",
   "nbconvert_exporter": "python",
   "pygments_lexer": "ipython3",
   "version": "3.7.3"
  }
 },
 "nbformat": 4,
 "nbformat_minor": 2
}
