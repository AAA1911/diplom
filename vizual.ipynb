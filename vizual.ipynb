{
 "cells": [
  {
   "cell_type": "code",
   "execution_count": 1,
   "metadata": {},
   "outputs": [],
   "source": [
    "import numpy as np\n",
    "import pandas as pd\n",
    "import matplotlib.pyplot as plt\n",
    "import matplotlib as mpl\n",
    "mpl.style.use('classic')\n",
    "import seaborn as sns; sns.set(style='white')\n",
    "%matplotlib inline\n",
    "import plotly\n",
    "import plotly.graph_objects as go\n",
    "import plotly.express as px\n"
   ]
  },
  {
   "cell_type": "code",
   "execution_count": 2,
   "metadata": {},
   "outputs": [],
   "source": [
    "data = pd.read_csv('/Users/aleksandr/Desktop/diplom/clusters_orig.csv')"
   ]
  },
  {
   "cell_type": "code",
   "execution_count": 35,
   "metadata": {
    "scrolled": true
   },
   "outputs": [
    {
     "data": {
      "text/html": [
       "<div>\n",
       "<style scoped>\n",
       "    .dataframe tbody tr th:only-of-type {\n",
       "        vertical-align: middle;\n",
       "    }\n",
       "\n",
       "    .dataframe tbody tr th {\n",
       "        vertical-align: top;\n",
       "    }\n",
       "\n",
       "    .dataframe thead th {\n",
       "        text-align: right;\n",
       "    }\n",
       "</style>\n",
       "<table border=\"1\" class=\"dataframe\">\n",
       "  <thead>\n",
       "    <tr style=\"text-align: right;\">\n",
       "      <th></th>\n",
       "      <th>Unnamed: 0</th>\n",
       "      <th>Player</th>\n",
       "      <th>Market value</th>\n",
       "      <th>Team</th>\n",
       "      <th>Matches played</th>\n",
       "      <th>Minutes played</th>\n",
       "      <th>On loan</th>\n",
       "      <th>Position</th>\n",
       "      <th>0</th>\n",
       "    </tr>\n",
       "  </thead>\n",
       "  <tbody>\n",
       "    <tr>\n",
       "      <th>0</th>\n",
       "      <td>0</td>\n",
       "      <td>A.  Fedchuk</td>\n",
       "      <td>350000</td>\n",
       "      <td>Tambov</td>\n",
       "      <td>17</td>\n",
       "      <td>1491</td>\n",
       "      <td>no</td>\n",
       "      <td>AMF, RW, LAMF</td>\n",
       "      <td>4</td>\n",
       "    </tr>\n",
       "  </tbody>\n",
       "</table>\n",
       "</div>"
      ],
      "text/plain": [
       "   Unnamed: 0       Player  Market value    Team  Matches played  \\\n",
       "0           0  A.  Fedchuk        350000  Tambov              17   \n",
       "\n",
       "   Minutes played On loan       Position  0  \n",
       "0            1491      no  AMF, RW, LAMF  4  "
      ]
     },
     "execution_count": 35,
     "metadata": {},
     "output_type": "execute_result"
    }
   ],
   "source": [
    "data.head(1)"
   ]
  },
  {
   "cell_type": "code",
   "execution_count": 3,
   "metadata": {},
   "outputs": [],
   "source": [
    "box = data[['Player', 'Market value', '0']]"
   ]
  },
  {
   "cell_type": "code",
   "execution_count": 4,
   "metadata": {},
   "outputs": [],
   "source": [
    "box = box.rename(columns={'0':'Cluster'})"
   ]
  },
  {
   "cell_type": "code",
   "execution_count": 5,
   "metadata": {},
   "outputs": [],
   "source": [
    "N = 23\n",
    "c = ['hsl('+str(h)+',50%'+',50%)' for h in np.linspace(0, 360, N)]"
   ]
  },
  {
   "cell_type": "code",
   "execution_count": 39,
   "metadata": {},
   "outputs": [
    {
     "data": {
      "text/html": [
       "<div>\n",
       "<style scoped>\n",
       "    .dataframe tbody tr th:only-of-type {\n",
       "        vertical-align: middle;\n",
       "    }\n",
       "\n",
       "    .dataframe tbody tr th {\n",
       "        vertical-align: top;\n",
       "    }\n",
       "\n",
       "    .dataframe thead th {\n",
       "        text-align: right;\n",
       "    }\n",
       "</style>\n",
       "<table border=\"1\" class=\"dataframe\">\n",
       "  <thead>\n",
       "    <tr style=\"text-align: right;\">\n",
       "      <th></th>\n",
       "      <th>Player</th>\n",
       "      <th>Market value</th>\n",
       "      <th>Cluster</th>\n",
       "    </tr>\n",
       "  </thead>\n",
       "  <tbody>\n",
       "    <tr>\n",
       "      <th>0</th>\n",
       "      <td>A.  Fedchuk</td>\n",
       "      <td>350000</td>\n",
       "      <td>4</td>\n",
       "    </tr>\n",
       "    <tr>\n",
       "      <th>1</th>\n",
       "      <td>A. Abazov</td>\n",
       "      <td>200000</td>\n",
       "      <td>17</td>\n",
       "    </tr>\n",
       "    <tr>\n",
       "      <th>2</th>\n",
       "      <td>A. Abramov</td>\n",
       "      <td>300000</td>\n",
       "      <td>17</td>\n",
       "    </tr>\n",
       "    <tr>\n",
       "      <th>3</th>\n",
       "      <td>A. Akhjadov</td>\n",
       "      <td>250000</td>\n",
       "      <td>10</td>\n",
       "    </tr>\n",
       "    <tr>\n",
       "      <th>4</th>\n",
       "      <td>A. Aliev</td>\n",
       "      <td>800000</td>\n",
       "      <td>17</td>\n",
       "    </tr>\n",
       "  </tbody>\n",
       "</table>\n",
       "</div>"
      ],
      "text/plain": [
       "        Player  Market value  Cluster\n",
       "0  A.  Fedchuk        350000        4\n",
       "1    A. Abazov        200000       17\n",
       "2   A. Abramov        300000       17\n",
       "3  A. Akhjadov        250000       10\n",
       "4     A. Aliev        800000       17"
      ]
     },
     "execution_count": 39,
     "metadata": {},
     "output_type": "execute_result"
    }
   ],
   "source": [
    "box.head()"
   ]
  },
  {
   "cell_type": "code",
   "execution_count": 40,
   "metadata": {
    "collapsed": true
   },
   "outputs": [
    {
     "name": "stdout",
     "output_type": "stream",
     "text": [
      "35725000\n",
      "29900000\n",
      "3600000\n",
      "58150000\n",
      "114925000\n",
      "136700000\n",
      "46600000\n",
      "15600000\n",
      "85700000\n",
      "48350000\n",
      "53025000\n",
      "20675000\n",
      "40900000\n",
      "38300000\n",
      "52925000\n",
      "16900000\n",
      "6150000\n",
      "60900000\n",
      "73000000\n",
      "13175000\n",
      "8875000\n",
      "6850000\n",
      "69525000\n"
     ]
    }
   ],
   "source": [
    "for i in range(0, 23):\n",
    "    print(box[box['Cluster'] == i]['Market value'].sum())"
   ]
  },
  {
   "cell_type": "code",
   "execution_count": 37,
   "metadata": {},
   "outputs": [],
   "source": [
    "fig = go.Figure(data=[go.Box(\n",
    "    y=box[box['Cluster'] == i]['Market value'],\n",
    "    marker_color=c[i],\n",
    "    name = 'Cluster' + \" \" + str(i),\n",
    "    ) for i in range(int(N))])"
   ]
  },
  {
   "cell_type": "code",
   "execution_count": 38,
   "metadata": {
    "collapsed": true
   },
   "outputs": [
    {
     "data": {
      "application/vnd.plotly.v1+json": {
       "config": {
        "plotlyServerURL": "https://plot.ly"
       },
       "data": [
        {
         "marker": {
          "color": "hsl(0.0,50%,50%)"
         },
         "name": "Cluster 0",
         "type": "box",
         "y": [
          600000,
          400000,
          600000,
          75000,
          850000,
          300000,
          1000000,
          4000000,
          1000000,
          300000,
          1000000,
          300000,
          450000,
          1000000,
          3000000,
          600000,
          350000,
          2000000,
          150000,
          4500000,
          450000,
          450000,
          550000,
          550000,
          450000,
          200000,
          700000,
          750000,
          150000,
          8000000,
          1000000
         ]
        },
        {
         "marker": {
          "color": "hsl(16.363636363636363,50%,50%)"
         },
         "name": "Cluster 1",
         "type": "box",
         "y": [
          20000000,
          550000,
          7000000,
          750000,
          900000,
          700000
         ]
        },
        {
         "marker": {
          "color": "hsl(32.72727272727273,50%,50%)"
         },
         "name": "Cluster 2",
         "type": "box",
         "y": [
          150000,
          275000,
          150000,
          100000,
          600000,
          450000,
          600000,
          500000,
          600000,
          175000
         ]
        },
        {
         "marker": {
          "color": "hsl(49.09090909090909,50%,50%)"
         },
         "name": "Cluster 3",
         "type": "box",
         "y": [
          2000000,
          350000,
          300000,
          300000,
          850000,
          275000,
          350000,
          300000,
          1000000,
          10000000,
          350000,
          2000000,
          3000000,
          150000,
          5000000,
          700000,
          10000000,
          1000000,
          225000,
          20000000
         ]
        },
        {
         "marker": {
          "color": "hsl(65.45454545454545,50%,50%)"
         },
         "name": "Cluster 4",
         "type": "box",
         "y": [
          350000,
          350000,
          500000,
          700000,
          175000,
          250000,
          125000,
          600000,
          700000,
          425000,
          550000,
          175000,
          450000,
          100000,
          600000,
          200000,
          300000,
          1000000,
          300000,
          2000000,
          400000,
          250000,
          750000,
          150000,
          150000,
          2000000,
          125000,
          2000000,
          4000000,
          1000000,
          7000000,
          300000,
          400000,
          200000,
          1000000,
          600000,
          1000000,
          250000,
          550000,
          350000,
          3000000,
          2000000,
          300000,
          25000,
          1000000,
          250000,
          25000,
          300000,
          225000,
          200000,
          550000,
          50000,
          225000,
          900000,
          550000,
          450000,
          175000,
          300000,
          400000,
          400000,
          3000000,
          225000,
          2000000,
          300000,
          700000,
          2000000,
          600000,
          450000,
          750000,
          450000,
          175000,
          900000,
          250000,
          3000000,
          6000000,
          400000,
          3000000,
          450000,
          1000000,
          500000,
          350000,
          250000,
          200000,
          1000000,
          5000000,
          1000000,
          400000,
          500000,
          700000,
          350000,
          250000,
          300000,
          200000,
          450000,
          2000000,
          150000,
          125000,
          25000,
          3000000,
          7000000,
          450000,
          4000000,
          8000000,
          900000,
          350000,
          2000000,
          700000,
          475000,
          1000000,
          2000000,
          2000000
         ]
        },
        {
         "marker": {
          "color": "hsl(81.81818181818181,50%,50%)"
         },
         "name": "Cluster 5",
         "type": "box",
         "y": [
          7000000,
          16000000,
          400000,
          3000000,
          7000000,
          18000000,
          750000,
          4000000,
          900000,
          500000,
          150000,
          22000000,
          3000000,
          22000000,
          4000000,
          17000000,
          11000000
         ]
        },
        {
         "marker": {
          "color": "hsl(98.18181818181819,50%,50%)"
         },
         "name": "Cluster 6",
         "type": "box",
         "y": [
          250000,
          2000000,
          3000000,
          3000000,
          550000,
          650000,
          30000000,
          500000,
          250000,
          6000000,
          400000
         ]
        },
        {
         "marker": {
          "color": "hsl(114.54545454545455,50%,50%)"
         },
         "name": "Cluster 7",
         "type": "box",
         "y": [
          325000,
          450000,
          250000,
          500000,
          200000,
          700000,
          700000,
          225000,
          250000,
          4000000,
          1000000,
          2000000,
          1000000,
          225000,
          300000,
          350000,
          50000,
          275000,
          300000,
          750000,
          650000,
          1000000,
          100000
         ]
        },
        {
         "marker": {
          "color": "hsl(130.9090909090909,50%,50%)"
         },
         "name": "Cluster 8",
         "type": "box",
         "y": [
          200000,
          250000,
          150000,
          400000,
          275000,
          3000000,
          1000000,
          2000000,
          275000,
          10000000,
          1000000,
          200000,
          175000,
          450000,
          2000000,
          275000,
          600000,
          1000000,
          5000000,
          3000000,
          275000,
          8000000,
          4000000,
          350000,
          3000000,
          1000000,
          700000,
          550000,
          250000,
          700000,
          650000,
          1000000,
          200000,
          350000,
          2000000,
          3000000,
          750000,
          12000000,
          6000000,
          350000,
          350000,
          350000,
          2000000,
          400000,
          225000,
          2000000,
          3000000,
          1000000
         ]
        },
        {
         "marker": {
          "color": "hsl(147.27272727272728,50%,50%)"
         },
         "name": "Cluster 9",
         "type": "box",
         "y": [
          150000,
          450000,
          750000,
          150000,
          75000,
          800000,
          350000,
          125000,
          300000,
          250000,
          100000,
          300000,
          300000,
          2000000,
          125000,
          900000,
          225000,
          200000,
          2000000,
          1000000,
          1000000,
          100000,
          400000,
          250000,
          300000,
          225000,
          200000,
          100000,
          250000,
          1000000,
          700000,
          700000,
          400000,
          175000,
          5000000,
          800000,
          7000000,
          200000,
          600000,
          350000,
          250000,
          1000000,
          400000,
          2000000,
          150000,
          150000,
          175000,
          50000,
          1000000,
          200000,
          225000,
          225000,
          150000,
          800000,
          350000,
          175000,
          700000,
          700000,
          100000,
          250000,
          300000,
          175000,
          375000,
          600000,
          200000,
          200000,
          1000000,
          800000,
          250000,
          1000000,
          300000,
          1000000,
          400000,
          175000,
          550000,
          150000,
          800000,
          225000,
          500000
         ]
        },
        {
         "marker": {
          "color": "hsl(163.63636363636363,50%,50%)"
         },
         "name": "Cluster 10",
         "type": "box",
         "y": [
          250000,
          200000,
          100000,
          100000,
          900000,
          225000,
          1000000,
          150000,
          450000,
          1000000,
          3000000,
          175000,
          200000,
          750000,
          600000,
          2000000,
          600000,
          600000,
          200000,
          900000,
          750000,
          600000,
          100000,
          3000000,
          550000,
          450000,
          1000000,
          300000,
          1000000,
          500000,
          200000,
          4000000,
          1000000,
          300000,
          300000,
          300000,
          800000,
          350000,
          250000,
          300000,
          200000,
          2000000,
          700000,
          250000,
          250000,
          200000,
          600000,
          200000,
          150000,
          900000,
          50000,
          600000,
          2000000,
          250000,
          200000,
          150000,
          2000000,
          1000000,
          275000,
          200000,
          800000,
          450000,
          150000,
          700000,
          150000,
          100000,
          9000000,
          50000
         ]
        },
        {
         "marker": {
          "color": "hsl(180.0,50%,50%)"
         },
         "name": "Cluster 11",
         "type": "box",
         "y": [
          500000,
          50000,
          250000,
          300000,
          150000,
          225000,
          275000,
          50000,
          750000,
          225000,
          225000,
          1000000,
          3000000,
          7000000,
          400000,
          250000,
          600000,
          100000,
          50000,
          375000,
          150000,
          2000000,
          1000000,
          1000000,
          450000,
          300000
         ]
        },
        {
         "marker": {
          "color": "hsl(196.36363636363637,50%,50%)"
         },
         "name": "Cluster 12",
         "type": "box",
         "y": [
          200000,
          1000000,
          250000,
          600000,
          1000000,
          300000,
          1000000,
          1000000,
          900000,
          250000,
          9000000,
          4000000,
          500000,
          450000,
          3000000,
          650000,
          800000,
          2000000,
          450000,
          375000,
          50000,
          350000,
          2000000,
          275000,
          250000,
          250000,
          1000000,
          8000000,
          150000,
          850000
         ]
        },
        {
         "marker": {
          "color": "hsl(212.72727272727272,50%,50%)"
         },
         "name": "Cluster 13",
         "type": "box",
         "y": [
          1000000,
          5000000,
          600000,
          700000,
          4000000,
          25000000,
          2000000
         ]
        },
        {
         "marker": {
          "color": "hsl(229.0909090909091,50%,50%)"
         },
         "name": "Cluster 14",
         "type": "box",
         "y": [
          25000,
          425000,
          4000000,
          650000,
          1000000,
          1000000,
          600000,
          12000000,
          1000000,
          150000,
          500000,
          275000,
          400000,
          4000000,
          600000,
          100000,
          2000000,
          2000000,
          2000000,
          300000,
          700000,
          2000000,
          350000,
          450000,
          300000,
          100000,
          2000000,
          4000000,
          10000000
         ]
        },
        {
         "marker": {
          "color": "hsl(245.45454545454544,50%,50%)"
         },
         "name": "Cluster 15",
         "type": "box",
         "y": [
          100000,
          4000000,
          2000000,
          7000000,
          800000,
          1000000,
          1000000,
          1000000
         ]
        },
        {
         "marker": {
          "color": "hsl(261.8181818181818,50%,50%)"
         },
         "name": "Cluster 16",
         "type": "box",
         "y": [
          400000,
          250000,
          450000,
          350000,
          450000,
          300000,
          250000,
          800000,
          300000,
          300000,
          450000,
          400000,
          400000,
          250000,
          800000
         ]
        },
        {
         "marker": {
          "color": "hsl(278.1818181818182,50%,50%)"
         },
         "name": "Cluster 17",
         "type": "box",
         "y": [
          200000,
          300000,
          800000,
          150000,
          200000,
          200000,
          900000,
          250000,
          275000,
          350000,
          25000,
          1000000,
          250000,
          200000,
          400000,
          600000,
          750000,
          2000000,
          250000,
          400000,
          550000,
          425000,
          2000000,
          175000,
          250000,
          750000,
          600000,
          2000000,
          75000,
          450000,
          2000000,
          600000,
          125000,
          7000000,
          600000,
          350000,
          250000,
          125000,
          400000,
          1000000,
          200000,
          800000,
          200000,
          150000,
          275000,
          600000,
          2000000,
          3000000,
          600000,
          50000,
          1000000,
          1000000,
          250000,
          200000,
          1000000,
          350000,
          250000,
          400000,
          200000,
          3000000,
          150000,
          200000,
          300000,
          275000,
          2000000,
          300000,
          250000,
          150000,
          50000,
          500000,
          2000000,
          2000000,
          200000,
          2000000,
          200000,
          250000,
          400000,
          100000,
          175000,
          700000,
          250000,
          600000,
          200000,
          1000000,
          700000,
          200000,
          1000000
         ]
        },
        {
         "marker": {
          "color": "hsl(294.54545454545456,50%,50%)"
         },
         "name": "Cluster 18",
         "type": "box",
         "y": [
          6000000,
          50000,
          2000000,
          300000,
          16000000,
          1000000,
          1000000,
          6000000,
          16000000,
          3000000,
          550000,
          400000,
          700000,
          12000000,
          2000000,
          3000000,
          2000000,
          1000000
         ]
        },
        {
         "marker": {
          "color": "hsl(310.9090909090909,50%,50%)"
         },
         "name": "Cluster 19",
         "type": "box",
         "y": [
          600000,
          325000,
          25000,
          350000,
          1000000,
          300000,
          350000,
          450000,
          250000,
          650000,
          1000000,
          300000,
          400000,
          1000000,
          400000,
          25000,
          50000,
          3000000,
          1000000,
          450000,
          600000,
          650000
         ]
        },
        {
         "marker": {
          "color": "hsl(327.27272727272725,50%,50%)"
         },
         "name": "Cluster 20",
         "type": "box",
         "y": [
          300000,
          200000,
          1000000,
          250000,
          200000,
          400000,
          450000,
          350000,
          650000,
          200000,
          4000000,
          600000,
          275000
         ]
        },
        {
         "marker": {
          "color": "hsl(343.6363636363636,50%,50%)"
         },
         "name": "Cluster 21",
         "type": "box",
         "y": [
          500000,
          325000,
          650000,
          800000,
          1000000,
          200000,
          2000000,
          500000,
          700000,
          175000
         ]
        },
        {
         "marker": {
          "color": "hsl(360.0,50%,50%)"
         },
         "name": "Cluster 22",
         "type": "box",
         "y": [
          4000000,
          350000,
          350000,
          275000,
          900000,
          350000,
          1000000,
          4000000,
          9000000,
          450000,
          150000,
          900000,
          300000,
          18000000,
          16000000,
          250000,
          900000,
          2000000,
          350000,
          10000000
         ]
        }
       ],
       "layout": {
        "paper_bgcolor": "rgb(255,255,255)",
        "plot_bgcolor": "rgb(255,255,255)",
        "template": {
         "data": {
          "bar": [
           {
            "error_x": {
             "color": "#2a3f5f"
            },
            "error_y": {
             "color": "#2a3f5f"
            },
            "marker": {
             "line": {
              "color": "#E5ECF6",
              "width": 0.5
             }
            },
            "type": "bar"
           }
          ],
          "barpolar": [
           {
            "marker": {
             "line": {
              "color": "#E5ECF6",
              "width": 0.5
             }
            },
            "type": "barpolar"
           }
          ],
          "carpet": [
           {
            "aaxis": {
             "endlinecolor": "#2a3f5f",
             "gridcolor": "white",
             "linecolor": "white",
             "minorgridcolor": "white",
             "startlinecolor": "#2a3f5f"
            },
            "baxis": {
             "endlinecolor": "#2a3f5f",
             "gridcolor": "white",
             "linecolor": "white",
             "minorgridcolor": "white",
             "startlinecolor": "#2a3f5f"
            },
            "type": "carpet"
           }
          ],
          "choropleth": [
           {
            "colorbar": {
             "outlinewidth": 0,
             "ticks": ""
            },
            "type": "choropleth"
           }
          ],
          "contour": [
           {
            "colorbar": {
             "outlinewidth": 0,
             "ticks": ""
            },
            "colorscale": [
             [
              0,
              "#0d0887"
             ],
             [
              0.1111111111111111,
              "#46039f"
             ],
             [
              0.2222222222222222,
              "#7201a8"
             ],
             [
              0.3333333333333333,
              "#9c179e"
             ],
             [
              0.4444444444444444,
              "#bd3786"
             ],
             [
              0.5555555555555556,
              "#d8576b"
             ],
             [
              0.6666666666666666,
              "#ed7953"
             ],
             [
              0.7777777777777778,
              "#fb9f3a"
             ],
             [
              0.8888888888888888,
              "#fdca26"
             ],
             [
              1,
              "#f0f921"
             ]
            ],
            "type": "contour"
           }
          ],
          "contourcarpet": [
           {
            "colorbar": {
             "outlinewidth": 0,
             "ticks": ""
            },
            "type": "contourcarpet"
           }
          ],
          "heatmap": [
           {
            "colorbar": {
             "outlinewidth": 0,
             "ticks": ""
            },
            "colorscale": [
             [
              0,
              "#0d0887"
             ],
             [
              0.1111111111111111,
              "#46039f"
             ],
             [
              0.2222222222222222,
              "#7201a8"
             ],
             [
              0.3333333333333333,
              "#9c179e"
             ],
             [
              0.4444444444444444,
              "#bd3786"
             ],
             [
              0.5555555555555556,
              "#d8576b"
             ],
             [
              0.6666666666666666,
              "#ed7953"
             ],
             [
              0.7777777777777778,
              "#fb9f3a"
             ],
             [
              0.8888888888888888,
              "#fdca26"
             ],
             [
              1,
              "#f0f921"
             ]
            ],
            "type": "heatmap"
           }
          ],
          "heatmapgl": [
           {
            "colorbar": {
             "outlinewidth": 0,
             "ticks": ""
            },
            "colorscale": [
             [
              0,
              "#0d0887"
             ],
             [
              0.1111111111111111,
              "#46039f"
             ],
             [
              0.2222222222222222,
              "#7201a8"
             ],
             [
              0.3333333333333333,
              "#9c179e"
             ],
             [
              0.4444444444444444,
              "#bd3786"
             ],
             [
              0.5555555555555556,
              "#d8576b"
             ],
             [
              0.6666666666666666,
              "#ed7953"
             ],
             [
              0.7777777777777778,
              "#fb9f3a"
             ],
             [
              0.8888888888888888,
              "#fdca26"
             ],
             [
              1,
              "#f0f921"
             ]
            ],
            "type": "heatmapgl"
           }
          ],
          "histogram": [
           {
            "marker": {
             "colorbar": {
              "outlinewidth": 0,
              "ticks": ""
             }
            },
            "type": "histogram"
           }
          ],
          "histogram2d": [
           {
            "colorbar": {
             "outlinewidth": 0,
             "ticks": ""
            },
            "colorscale": [
             [
              0,
              "#0d0887"
             ],
             [
              0.1111111111111111,
              "#46039f"
             ],
             [
              0.2222222222222222,
              "#7201a8"
             ],
             [
              0.3333333333333333,
              "#9c179e"
             ],
             [
              0.4444444444444444,
              "#bd3786"
             ],
             [
              0.5555555555555556,
              "#d8576b"
             ],
             [
              0.6666666666666666,
              "#ed7953"
             ],
             [
              0.7777777777777778,
              "#fb9f3a"
             ],
             [
              0.8888888888888888,
              "#fdca26"
             ],
             [
              1,
              "#f0f921"
             ]
            ],
            "type": "histogram2d"
           }
          ],
          "histogram2dcontour": [
           {
            "colorbar": {
             "outlinewidth": 0,
             "ticks": ""
            },
            "colorscale": [
             [
              0,
              "#0d0887"
             ],
             [
              0.1111111111111111,
              "#46039f"
             ],
             [
              0.2222222222222222,
              "#7201a8"
             ],
             [
              0.3333333333333333,
              "#9c179e"
             ],
             [
              0.4444444444444444,
              "#bd3786"
             ],
             [
              0.5555555555555556,
              "#d8576b"
             ],
             [
              0.6666666666666666,
              "#ed7953"
             ],
             [
              0.7777777777777778,
              "#fb9f3a"
             ],
             [
              0.8888888888888888,
              "#fdca26"
             ],
             [
              1,
              "#f0f921"
             ]
            ],
            "type": "histogram2dcontour"
           }
          ],
          "mesh3d": [
           {
            "colorbar": {
             "outlinewidth": 0,
             "ticks": ""
            },
            "type": "mesh3d"
           }
          ],
          "parcoords": [
           {
            "line": {
             "colorbar": {
              "outlinewidth": 0,
              "ticks": ""
             }
            },
            "type": "parcoords"
           }
          ],
          "pie": [
           {
            "automargin": true,
            "type": "pie"
           }
          ],
          "scatter": [
           {
            "marker": {
             "colorbar": {
              "outlinewidth": 0,
              "ticks": ""
             }
            },
            "type": "scatter"
           }
          ],
          "scatter3d": [
           {
            "line": {
             "colorbar": {
              "outlinewidth": 0,
              "ticks": ""
             }
            },
            "marker": {
             "colorbar": {
              "outlinewidth": 0,
              "ticks": ""
             }
            },
            "type": "scatter3d"
           }
          ],
          "scattercarpet": [
           {
            "marker": {
             "colorbar": {
              "outlinewidth": 0,
              "ticks": ""
             }
            },
            "type": "scattercarpet"
           }
          ],
          "scattergeo": [
           {
            "marker": {
             "colorbar": {
              "outlinewidth": 0,
              "ticks": ""
             }
            },
            "type": "scattergeo"
           }
          ],
          "scattergl": [
           {
            "marker": {
             "colorbar": {
              "outlinewidth": 0,
              "ticks": ""
             }
            },
            "type": "scattergl"
           }
          ],
          "scattermapbox": [
           {
            "marker": {
             "colorbar": {
              "outlinewidth": 0,
              "ticks": ""
             }
            },
            "type": "scattermapbox"
           }
          ],
          "scatterpolar": [
           {
            "marker": {
             "colorbar": {
              "outlinewidth": 0,
              "ticks": ""
             }
            },
            "type": "scatterpolar"
           }
          ],
          "scatterpolargl": [
           {
            "marker": {
             "colorbar": {
              "outlinewidth": 0,
              "ticks": ""
             }
            },
            "type": "scatterpolargl"
           }
          ],
          "scatterternary": [
           {
            "marker": {
             "colorbar": {
              "outlinewidth": 0,
              "ticks": ""
             }
            },
            "type": "scatterternary"
           }
          ],
          "surface": [
           {
            "colorbar": {
             "outlinewidth": 0,
             "ticks": ""
            },
            "colorscale": [
             [
              0,
              "#0d0887"
             ],
             [
              0.1111111111111111,
              "#46039f"
             ],
             [
              0.2222222222222222,
              "#7201a8"
             ],
             [
              0.3333333333333333,
              "#9c179e"
             ],
             [
              0.4444444444444444,
              "#bd3786"
             ],
             [
              0.5555555555555556,
              "#d8576b"
             ],
             [
              0.6666666666666666,
              "#ed7953"
             ],
             [
              0.7777777777777778,
              "#fb9f3a"
             ],
             [
              0.8888888888888888,
              "#fdca26"
             ],
             [
              1,
              "#f0f921"
             ]
            ],
            "type": "surface"
           }
          ],
          "table": [
           {
            "cells": {
             "fill": {
              "color": "#EBF0F8"
             },
             "line": {
              "color": "white"
             }
            },
            "header": {
             "fill": {
              "color": "#C8D4E3"
             },
             "line": {
              "color": "white"
             }
            },
            "type": "table"
           }
          ]
         },
         "layout": {
          "annotationdefaults": {
           "arrowcolor": "#2a3f5f",
           "arrowhead": 0,
           "arrowwidth": 1
          },
          "coloraxis": {
           "colorbar": {
            "outlinewidth": 0,
            "ticks": ""
           }
          },
          "colorscale": {
           "diverging": [
            [
             0,
             "#8e0152"
            ],
            [
             0.1,
             "#c51b7d"
            ],
            [
             0.2,
             "#de77ae"
            ],
            [
             0.3,
             "#f1b6da"
            ],
            [
             0.4,
             "#fde0ef"
            ],
            [
             0.5,
             "#f7f7f7"
            ],
            [
             0.6,
             "#e6f5d0"
            ],
            [
             0.7,
             "#b8e186"
            ],
            [
             0.8,
             "#7fbc41"
            ],
            [
             0.9,
             "#4d9221"
            ],
            [
             1,
             "#276419"
            ]
           ],
           "sequential": [
            [
             0,
             "#0d0887"
            ],
            [
             0.1111111111111111,
             "#46039f"
            ],
            [
             0.2222222222222222,
             "#7201a8"
            ],
            [
             0.3333333333333333,
             "#9c179e"
            ],
            [
             0.4444444444444444,
             "#bd3786"
            ],
            [
             0.5555555555555556,
             "#d8576b"
            ],
            [
             0.6666666666666666,
             "#ed7953"
            ],
            [
             0.7777777777777778,
             "#fb9f3a"
            ],
            [
             0.8888888888888888,
             "#fdca26"
            ],
            [
             1,
             "#f0f921"
            ]
           ],
           "sequentialminus": [
            [
             0,
             "#0d0887"
            ],
            [
             0.1111111111111111,
             "#46039f"
            ],
            [
             0.2222222222222222,
             "#7201a8"
            ],
            [
             0.3333333333333333,
             "#9c179e"
            ],
            [
             0.4444444444444444,
             "#bd3786"
            ],
            [
             0.5555555555555556,
             "#d8576b"
            ],
            [
             0.6666666666666666,
             "#ed7953"
            ],
            [
             0.7777777777777778,
             "#fb9f3a"
            ],
            [
             0.8888888888888888,
             "#fdca26"
            ],
            [
             1,
             "#f0f921"
            ]
           ]
          },
          "colorway": [
           "#636efa",
           "#EF553B",
           "#00cc96",
           "#ab63fa",
           "#FFA15A",
           "#19d3f3",
           "#FF6692",
           "#B6E880",
           "#FF97FF",
           "#FECB52"
          ],
          "font": {
           "color": "#2a3f5f"
          },
          "geo": {
           "bgcolor": "white",
           "lakecolor": "white",
           "landcolor": "#E5ECF6",
           "showlakes": true,
           "showland": true,
           "subunitcolor": "white"
          },
          "hoverlabel": {
           "align": "left"
          },
          "hovermode": "closest",
          "mapbox": {
           "style": "light"
          },
          "paper_bgcolor": "white",
          "plot_bgcolor": "#E5ECF6",
          "polar": {
           "angularaxis": {
            "gridcolor": "white",
            "linecolor": "white",
            "ticks": ""
           },
           "bgcolor": "#E5ECF6",
           "radialaxis": {
            "gridcolor": "white",
            "linecolor": "white",
            "ticks": ""
           }
          },
          "scene": {
           "xaxis": {
            "backgroundcolor": "#E5ECF6",
            "gridcolor": "white",
            "gridwidth": 2,
            "linecolor": "white",
            "showbackground": true,
            "ticks": "",
            "zerolinecolor": "white"
           },
           "yaxis": {
            "backgroundcolor": "#E5ECF6",
            "gridcolor": "white",
            "gridwidth": 2,
            "linecolor": "white",
            "showbackground": true,
            "ticks": "",
            "zerolinecolor": "white"
           },
           "zaxis": {
            "backgroundcolor": "#E5ECF6",
            "gridcolor": "white",
            "gridwidth": 2,
            "linecolor": "white",
            "showbackground": true,
            "ticks": "",
            "zerolinecolor": "white"
           }
          },
          "shapedefaults": {
           "line": {
            "color": "#2a3f5f"
           }
          },
          "ternary": {
           "aaxis": {
            "gridcolor": "white",
            "linecolor": "white",
            "ticks": ""
           },
           "baxis": {
            "gridcolor": "white",
            "linecolor": "white",
            "ticks": ""
           },
           "bgcolor": "#E5ECF6",
           "caxis": {
            "gridcolor": "white",
            "linecolor": "white",
            "ticks": ""
           }
          },
          "title": {
           "x": 0.05
          },
          "xaxis": {
           "automargin": true,
           "gridcolor": "white",
           "linecolor": "white",
           "ticks": "",
           "title": {
            "standoff": 15
           },
           "zerolinecolor": "white",
           "zerolinewidth": 2
          },
          "yaxis": {
           "automargin": true,
           "gridcolor": "white",
           "linecolor": "white",
           "ticks": "",
           "title": {
            "standoff": 15
           },
           "zerolinecolor": "white",
           "zerolinewidth": 2
          }
         }
        },
        "title": {
         "text": "Distribution of the transfer fees within clusters "
        },
        "xaxis": {
         "showgrid": true,
         "showticklabels": false,
         "zeroline": false
        },
        "yaxis": {
         "gridcolor": "rgb(255,255,255)",
         "zeroline": true
        }
       }
      },
      "text/html": [
       "<div>\n",
       "        \n",
       "        \n",
       "            <div id=\"21e3e606-5ef3-4ebc-81bd-e18406954102\" class=\"plotly-graph-div\" style=\"height:525px; width:100%;\"></div>\n",
       "            <script type=\"text/javascript\">\n",
       "                require([\"plotly\"], function(Plotly) {\n",
       "                    window.PLOTLYENV=window.PLOTLYENV || {};\n",
       "                    \n",
       "                if (document.getElementById(\"21e3e606-5ef3-4ebc-81bd-e18406954102\")) {\n",
       "                    Plotly.newPlot(\n",
       "                        '21e3e606-5ef3-4ebc-81bd-e18406954102',\n",
       "                        [{\"marker\": {\"color\": \"hsl(0.0,50%,50%)\"}, \"name\": \"Cluster 0\", \"type\": \"box\", \"y\": [600000, 400000, 600000, 75000, 850000, 300000, 1000000, 4000000, 1000000, 300000, 1000000, 300000, 450000, 1000000, 3000000, 600000, 350000, 2000000, 150000, 4500000, 450000, 450000, 550000, 550000, 450000, 200000, 700000, 750000, 150000, 8000000, 1000000]}, {\"marker\": {\"color\": \"hsl(16.363636363636363,50%,50%)\"}, \"name\": \"Cluster 1\", \"type\": \"box\", \"y\": [20000000, 550000, 7000000, 750000, 900000, 700000]}, {\"marker\": {\"color\": \"hsl(32.72727272727273,50%,50%)\"}, \"name\": \"Cluster 2\", \"type\": \"box\", \"y\": [150000, 275000, 150000, 100000, 600000, 450000, 600000, 500000, 600000, 175000]}, {\"marker\": {\"color\": \"hsl(49.09090909090909,50%,50%)\"}, \"name\": \"Cluster 3\", \"type\": \"box\", \"y\": [2000000, 350000, 300000, 300000, 850000, 275000, 350000, 300000, 1000000, 10000000, 350000, 2000000, 3000000, 150000, 5000000, 700000, 10000000, 1000000, 225000, 20000000]}, {\"marker\": {\"color\": \"hsl(65.45454545454545,50%,50%)\"}, \"name\": \"Cluster 4\", \"type\": \"box\", \"y\": [350000, 350000, 500000, 700000, 175000, 250000, 125000, 600000, 700000, 425000, 550000, 175000, 450000, 100000, 600000, 200000, 300000, 1000000, 300000, 2000000, 400000, 250000, 750000, 150000, 150000, 2000000, 125000, 2000000, 4000000, 1000000, 7000000, 300000, 400000, 200000, 1000000, 600000, 1000000, 250000, 550000, 350000, 3000000, 2000000, 300000, 25000, 1000000, 250000, 25000, 300000, 225000, 200000, 550000, 50000, 225000, 900000, 550000, 450000, 175000, 300000, 400000, 400000, 3000000, 225000, 2000000, 300000, 700000, 2000000, 600000, 450000, 750000, 450000, 175000, 900000, 250000, 3000000, 6000000, 400000, 3000000, 450000, 1000000, 500000, 350000, 250000, 200000, 1000000, 5000000, 1000000, 400000, 500000, 700000, 350000, 250000, 300000, 200000, 450000, 2000000, 150000, 125000, 25000, 3000000, 7000000, 450000, 4000000, 8000000, 900000, 350000, 2000000, 700000, 475000, 1000000, 2000000, 2000000]}, {\"marker\": {\"color\": \"hsl(81.81818181818181,50%,50%)\"}, \"name\": \"Cluster 5\", \"type\": \"box\", \"y\": [7000000, 16000000, 400000, 3000000, 7000000, 18000000, 750000, 4000000, 900000, 500000, 150000, 22000000, 3000000, 22000000, 4000000, 17000000, 11000000]}, {\"marker\": {\"color\": \"hsl(98.18181818181819,50%,50%)\"}, \"name\": \"Cluster 6\", \"type\": \"box\", \"y\": [250000, 2000000, 3000000, 3000000, 550000, 650000, 30000000, 500000, 250000, 6000000, 400000]}, {\"marker\": {\"color\": \"hsl(114.54545454545455,50%,50%)\"}, \"name\": \"Cluster 7\", \"type\": \"box\", \"y\": [325000, 450000, 250000, 500000, 200000, 700000, 700000, 225000, 250000, 4000000, 1000000, 2000000, 1000000, 225000, 300000, 350000, 50000, 275000, 300000, 750000, 650000, 1000000, 100000]}, {\"marker\": {\"color\": \"hsl(130.9090909090909,50%,50%)\"}, \"name\": \"Cluster 8\", \"type\": \"box\", \"y\": [200000, 250000, 150000, 400000, 275000, 3000000, 1000000, 2000000, 275000, 10000000, 1000000, 200000, 175000, 450000, 2000000, 275000, 600000, 1000000, 5000000, 3000000, 275000, 8000000, 4000000, 350000, 3000000, 1000000, 700000, 550000, 250000, 700000, 650000, 1000000, 200000, 350000, 2000000, 3000000, 750000, 12000000, 6000000, 350000, 350000, 350000, 2000000, 400000, 225000, 2000000, 3000000, 1000000]}, {\"marker\": {\"color\": \"hsl(147.27272727272728,50%,50%)\"}, \"name\": \"Cluster 9\", \"type\": \"box\", \"y\": [150000, 450000, 750000, 150000, 75000, 800000, 350000, 125000, 300000, 250000, 100000, 300000, 300000, 2000000, 125000, 900000, 225000, 200000, 2000000, 1000000, 1000000, 100000, 400000, 250000, 300000, 225000, 200000, 100000, 250000, 1000000, 700000, 700000, 400000, 175000, 5000000, 800000, 7000000, 200000, 600000, 350000, 250000, 1000000, 400000, 2000000, 150000, 150000, 175000, 50000, 1000000, 200000, 225000, 225000, 150000, 800000, 350000, 175000, 700000, 700000, 100000, 250000, 300000, 175000, 375000, 600000, 200000, 200000, 1000000, 800000, 250000, 1000000, 300000, 1000000, 400000, 175000, 550000, 150000, 800000, 225000, 500000]}, {\"marker\": {\"color\": \"hsl(163.63636363636363,50%,50%)\"}, \"name\": \"Cluster 10\", \"type\": \"box\", \"y\": [250000, 200000, 100000, 100000, 900000, 225000, 1000000, 150000, 450000, 1000000, 3000000, 175000, 200000, 750000, 600000, 2000000, 600000, 600000, 200000, 900000, 750000, 600000, 100000, 3000000, 550000, 450000, 1000000, 300000, 1000000, 500000, 200000, 4000000, 1000000, 300000, 300000, 300000, 800000, 350000, 250000, 300000, 200000, 2000000, 700000, 250000, 250000, 200000, 600000, 200000, 150000, 900000, 50000, 600000, 2000000, 250000, 200000, 150000, 2000000, 1000000, 275000, 200000, 800000, 450000, 150000, 700000, 150000, 100000, 9000000, 50000]}, {\"marker\": {\"color\": \"hsl(180.0,50%,50%)\"}, \"name\": \"Cluster 11\", \"type\": \"box\", \"y\": [500000, 50000, 250000, 300000, 150000, 225000, 275000, 50000, 750000, 225000, 225000, 1000000, 3000000, 7000000, 400000, 250000, 600000, 100000, 50000, 375000, 150000, 2000000, 1000000, 1000000, 450000, 300000]}, {\"marker\": {\"color\": \"hsl(196.36363636363637,50%,50%)\"}, \"name\": \"Cluster 12\", \"type\": \"box\", \"y\": [200000, 1000000, 250000, 600000, 1000000, 300000, 1000000, 1000000, 900000, 250000, 9000000, 4000000, 500000, 450000, 3000000, 650000, 800000, 2000000, 450000, 375000, 50000, 350000, 2000000, 275000, 250000, 250000, 1000000, 8000000, 150000, 850000]}, {\"marker\": {\"color\": \"hsl(212.72727272727272,50%,50%)\"}, \"name\": \"Cluster 13\", \"type\": \"box\", \"y\": [1000000, 5000000, 600000, 700000, 4000000, 25000000, 2000000]}, {\"marker\": {\"color\": \"hsl(229.0909090909091,50%,50%)\"}, \"name\": \"Cluster 14\", \"type\": \"box\", \"y\": [25000, 425000, 4000000, 650000, 1000000, 1000000, 600000, 12000000, 1000000, 150000, 500000, 275000, 400000, 4000000, 600000, 100000, 2000000, 2000000, 2000000, 300000, 700000, 2000000, 350000, 450000, 300000, 100000, 2000000, 4000000, 10000000]}, {\"marker\": {\"color\": \"hsl(245.45454545454544,50%,50%)\"}, \"name\": \"Cluster 15\", \"type\": \"box\", \"y\": [100000, 4000000, 2000000, 7000000, 800000, 1000000, 1000000, 1000000]}, {\"marker\": {\"color\": \"hsl(261.8181818181818,50%,50%)\"}, \"name\": \"Cluster 16\", \"type\": \"box\", \"y\": [400000, 250000, 450000, 350000, 450000, 300000, 250000, 800000, 300000, 300000, 450000, 400000, 400000, 250000, 800000]}, {\"marker\": {\"color\": \"hsl(278.1818181818182,50%,50%)\"}, \"name\": \"Cluster 17\", \"type\": \"box\", \"y\": [200000, 300000, 800000, 150000, 200000, 200000, 900000, 250000, 275000, 350000, 25000, 1000000, 250000, 200000, 400000, 600000, 750000, 2000000, 250000, 400000, 550000, 425000, 2000000, 175000, 250000, 750000, 600000, 2000000, 75000, 450000, 2000000, 600000, 125000, 7000000, 600000, 350000, 250000, 125000, 400000, 1000000, 200000, 800000, 200000, 150000, 275000, 600000, 2000000, 3000000, 600000, 50000, 1000000, 1000000, 250000, 200000, 1000000, 350000, 250000, 400000, 200000, 3000000, 150000, 200000, 300000, 275000, 2000000, 300000, 250000, 150000, 50000, 500000, 2000000, 2000000, 200000, 2000000, 200000, 250000, 400000, 100000, 175000, 700000, 250000, 600000, 200000, 1000000, 700000, 200000, 1000000]}, {\"marker\": {\"color\": \"hsl(294.54545454545456,50%,50%)\"}, \"name\": \"Cluster 18\", \"type\": \"box\", \"y\": [6000000, 50000, 2000000, 300000, 16000000, 1000000, 1000000, 6000000, 16000000, 3000000, 550000, 400000, 700000, 12000000, 2000000, 3000000, 2000000, 1000000]}, {\"marker\": {\"color\": \"hsl(310.9090909090909,50%,50%)\"}, \"name\": \"Cluster 19\", \"type\": \"box\", \"y\": [600000, 325000, 25000, 350000, 1000000, 300000, 350000, 450000, 250000, 650000, 1000000, 300000, 400000, 1000000, 400000, 25000, 50000, 3000000, 1000000, 450000, 600000, 650000]}, {\"marker\": {\"color\": \"hsl(327.27272727272725,50%,50%)\"}, \"name\": \"Cluster 20\", \"type\": \"box\", \"y\": [300000, 200000, 1000000, 250000, 200000, 400000, 450000, 350000, 650000, 200000, 4000000, 600000, 275000]}, {\"marker\": {\"color\": \"hsl(343.6363636363636,50%,50%)\"}, \"name\": \"Cluster 21\", \"type\": \"box\", \"y\": [500000, 325000, 650000, 800000, 1000000, 200000, 2000000, 500000, 700000, 175000]}, {\"marker\": {\"color\": \"hsl(360.0,50%,50%)\"}, \"name\": \"Cluster 22\", \"type\": \"box\", \"y\": [4000000, 350000, 350000, 275000, 900000, 350000, 1000000, 4000000, 9000000, 450000, 150000, 900000, 300000, 18000000, 16000000, 250000, 900000, 2000000, 350000, 10000000]}],\n",
       "                        {\"paper_bgcolor\": \"rgb(255,255,255)\", \"plot_bgcolor\": \"rgb(255,255,255)\", \"template\": {\"data\": {\"bar\": [{\"error_x\": {\"color\": \"#2a3f5f\"}, \"error_y\": {\"color\": \"#2a3f5f\"}, \"marker\": {\"line\": {\"color\": \"#E5ECF6\", \"width\": 0.5}}, \"type\": \"bar\"}], \"barpolar\": [{\"marker\": {\"line\": {\"color\": \"#E5ECF6\", \"width\": 0.5}}, \"type\": \"barpolar\"}], \"carpet\": [{\"aaxis\": {\"endlinecolor\": \"#2a3f5f\", \"gridcolor\": \"white\", \"linecolor\": \"white\", \"minorgridcolor\": \"white\", \"startlinecolor\": \"#2a3f5f\"}, \"baxis\": {\"endlinecolor\": \"#2a3f5f\", \"gridcolor\": \"white\", \"linecolor\": \"white\", \"minorgridcolor\": \"white\", \"startlinecolor\": \"#2a3f5f\"}, \"type\": \"carpet\"}], \"choropleth\": [{\"colorbar\": {\"outlinewidth\": 0, \"ticks\": \"\"}, \"type\": \"choropleth\"}], \"contour\": [{\"colorbar\": {\"outlinewidth\": 0, \"ticks\": \"\"}, \"colorscale\": [[0.0, \"#0d0887\"], [0.1111111111111111, \"#46039f\"], [0.2222222222222222, \"#7201a8\"], [0.3333333333333333, \"#9c179e\"], [0.4444444444444444, \"#bd3786\"], [0.5555555555555556, \"#d8576b\"], [0.6666666666666666, \"#ed7953\"], [0.7777777777777778, \"#fb9f3a\"], [0.8888888888888888, \"#fdca26\"], [1.0, \"#f0f921\"]], \"type\": \"contour\"}], \"contourcarpet\": [{\"colorbar\": {\"outlinewidth\": 0, \"ticks\": \"\"}, \"type\": \"contourcarpet\"}], \"heatmap\": [{\"colorbar\": {\"outlinewidth\": 0, \"ticks\": \"\"}, \"colorscale\": [[0.0, \"#0d0887\"], [0.1111111111111111, \"#46039f\"], [0.2222222222222222, \"#7201a8\"], [0.3333333333333333, \"#9c179e\"], [0.4444444444444444, \"#bd3786\"], [0.5555555555555556, \"#d8576b\"], [0.6666666666666666, \"#ed7953\"], [0.7777777777777778, \"#fb9f3a\"], [0.8888888888888888, \"#fdca26\"], [1.0, \"#f0f921\"]], \"type\": \"heatmap\"}], \"heatmapgl\": [{\"colorbar\": {\"outlinewidth\": 0, \"ticks\": \"\"}, \"colorscale\": [[0.0, \"#0d0887\"], [0.1111111111111111, \"#46039f\"], [0.2222222222222222, \"#7201a8\"], [0.3333333333333333, \"#9c179e\"], [0.4444444444444444, \"#bd3786\"], [0.5555555555555556, \"#d8576b\"], [0.6666666666666666, \"#ed7953\"], [0.7777777777777778, \"#fb9f3a\"], [0.8888888888888888, \"#fdca26\"], [1.0, \"#f0f921\"]], \"type\": \"heatmapgl\"}], \"histogram\": [{\"marker\": {\"colorbar\": {\"outlinewidth\": 0, \"ticks\": \"\"}}, \"type\": \"histogram\"}], \"histogram2d\": [{\"colorbar\": {\"outlinewidth\": 0, \"ticks\": \"\"}, \"colorscale\": [[0.0, \"#0d0887\"], [0.1111111111111111, \"#46039f\"], [0.2222222222222222, \"#7201a8\"], [0.3333333333333333, \"#9c179e\"], [0.4444444444444444, \"#bd3786\"], [0.5555555555555556, \"#d8576b\"], [0.6666666666666666, \"#ed7953\"], [0.7777777777777778, \"#fb9f3a\"], [0.8888888888888888, \"#fdca26\"], [1.0, \"#f0f921\"]], \"type\": \"histogram2d\"}], \"histogram2dcontour\": [{\"colorbar\": {\"outlinewidth\": 0, \"ticks\": \"\"}, \"colorscale\": [[0.0, \"#0d0887\"], [0.1111111111111111, \"#46039f\"], [0.2222222222222222, \"#7201a8\"], [0.3333333333333333, \"#9c179e\"], [0.4444444444444444, \"#bd3786\"], [0.5555555555555556, \"#d8576b\"], [0.6666666666666666, \"#ed7953\"], [0.7777777777777778, \"#fb9f3a\"], [0.8888888888888888, \"#fdca26\"], [1.0, \"#f0f921\"]], \"type\": \"histogram2dcontour\"}], \"mesh3d\": [{\"colorbar\": {\"outlinewidth\": 0, \"ticks\": \"\"}, \"type\": \"mesh3d\"}], \"parcoords\": [{\"line\": {\"colorbar\": {\"outlinewidth\": 0, \"ticks\": \"\"}}, \"type\": \"parcoords\"}], \"pie\": [{\"automargin\": true, \"type\": \"pie\"}], \"scatter\": [{\"marker\": {\"colorbar\": {\"outlinewidth\": 0, \"ticks\": \"\"}}, \"type\": \"scatter\"}], \"scatter3d\": [{\"line\": {\"colorbar\": {\"outlinewidth\": 0, \"ticks\": \"\"}}, \"marker\": {\"colorbar\": {\"outlinewidth\": 0, \"ticks\": \"\"}}, \"type\": \"scatter3d\"}], \"scattercarpet\": [{\"marker\": {\"colorbar\": {\"outlinewidth\": 0, \"ticks\": \"\"}}, \"type\": \"scattercarpet\"}], \"scattergeo\": [{\"marker\": {\"colorbar\": {\"outlinewidth\": 0, \"ticks\": \"\"}}, \"type\": \"scattergeo\"}], \"scattergl\": [{\"marker\": {\"colorbar\": {\"outlinewidth\": 0, \"ticks\": \"\"}}, \"type\": \"scattergl\"}], \"scattermapbox\": [{\"marker\": {\"colorbar\": {\"outlinewidth\": 0, \"ticks\": \"\"}}, \"type\": \"scattermapbox\"}], \"scatterpolar\": [{\"marker\": {\"colorbar\": {\"outlinewidth\": 0, \"ticks\": \"\"}}, \"type\": \"scatterpolar\"}], \"scatterpolargl\": [{\"marker\": {\"colorbar\": {\"outlinewidth\": 0, \"ticks\": \"\"}}, \"type\": \"scatterpolargl\"}], \"scatterternary\": [{\"marker\": {\"colorbar\": {\"outlinewidth\": 0, \"ticks\": \"\"}}, \"type\": \"scatterternary\"}], \"surface\": [{\"colorbar\": {\"outlinewidth\": 0, \"ticks\": \"\"}, \"colorscale\": [[0.0, \"#0d0887\"], [0.1111111111111111, \"#46039f\"], [0.2222222222222222, \"#7201a8\"], [0.3333333333333333, \"#9c179e\"], [0.4444444444444444, \"#bd3786\"], [0.5555555555555556, \"#d8576b\"], [0.6666666666666666, \"#ed7953\"], [0.7777777777777778, \"#fb9f3a\"], [0.8888888888888888, \"#fdca26\"], [1.0, \"#f0f921\"]], \"type\": \"surface\"}], \"table\": [{\"cells\": {\"fill\": {\"color\": \"#EBF0F8\"}, \"line\": {\"color\": \"white\"}}, \"header\": {\"fill\": {\"color\": \"#C8D4E3\"}, \"line\": {\"color\": \"white\"}}, \"type\": \"table\"}]}, \"layout\": {\"annotationdefaults\": {\"arrowcolor\": \"#2a3f5f\", \"arrowhead\": 0, \"arrowwidth\": 1}, \"coloraxis\": {\"colorbar\": {\"outlinewidth\": 0, \"ticks\": \"\"}}, \"colorscale\": {\"diverging\": [[0, \"#8e0152\"], [0.1, \"#c51b7d\"], [0.2, \"#de77ae\"], [0.3, \"#f1b6da\"], [0.4, \"#fde0ef\"], [0.5, \"#f7f7f7\"], [0.6, \"#e6f5d0\"], [0.7, \"#b8e186\"], [0.8, \"#7fbc41\"], [0.9, \"#4d9221\"], [1, \"#276419\"]], \"sequential\": [[0.0, \"#0d0887\"], [0.1111111111111111, \"#46039f\"], [0.2222222222222222, \"#7201a8\"], [0.3333333333333333, \"#9c179e\"], [0.4444444444444444, \"#bd3786\"], [0.5555555555555556, \"#d8576b\"], [0.6666666666666666, \"#ed7953\"], [0.7777777777777778, \"#fb9f3a\"], [0.8888888888888888, \"#fdca26\"], [1.0, \"#f0f921\"]], \"sequentialminus\": [[0.0, \"#0d0887\"], [0.1111111111111111, \"#46039f\"], [0.2222222222222222, \"#7201a8\"], [0.3333333333333333, \"#9c179e\"], [0.4444444444444444, \"#bd3786\"], [0.5555555555555556, \"#d8576b\"], [0.6666666666666666, \"#ed7953\"], [0.7777777777777778, \"#fb9f3a\"], [0.8888888888888888, \"#fdca26\"], [1.0, \"#f0f921\"]]}, \"colorway\": [\"#636efa\", \"#EF553B\", \"#00cc96\", \"#ab63fa\", \"#FFA15A\", \"#19d3f3\", \"#FF6692\", \"#B6E880\", \"#FF97FF\", \"#FECB52\"], \"font\": {\"color\": \"#2a3f5f\"}, \"geo\": {\"bgcolor\": \"white\", \"lakecolor\": \"white\", \"landcolor\": \"#E5ECF6\", \"showlakes\": true, \"showland\": true, \"subunitcolor\": \"white\"}, \"hoverlabel\": {\"align\": \"left\"}, \"hovermode\": \"closest\", \"mapbox\": {\"style\": \"light\"}, \"paper_bgcolor\": \"white\", \"plot_bgcolor\": \"#E5ECF6\", \"polar\": {\"angularaxis\": {\"gridcolor\": \"white\", \"linecolor\": \"white\", \"ticks\": \"\"}, \"bgcolor\": \"#E5ECF6\", \"radialaxis\": {\"gridcolor\": \"white\", \"linecolor\": \"white\", \"ticks\": \"\"}}, \"scene\": {\"xaxis\": {\"backgroundcolor\": \"#E5ECF6\", \"gridcolor\": \"white\", \"gridwidth\": 2, \"linecolor\": \"white\", \"showbackground\": true, \"ticks\": \"\", \"zerolinecolor\": \"white\"}, \"yaxis\": {\"backgroundcolor\": \"#E5ECF6\", \"gridcolor\": \"white\", \"gridwidth\": 2, \"linecolor\": \"white\", \"showbackground\": true, \"ticks\": \"\", \"zerolinecolor\": \"white\"}, \"zaxis\": {\"backgroundcolor\": \"#E5ECF6\", \"gridcolor\": \"white\", \"gridwidth\": 2, \"linecolor\": \"white\", \"showbackground\": true, \"ticks\": \"\", \"zerolinecolor\": \"white\"}}, \"shapedefaults\": {\"line\": {\"color\": \"#2a3f5f\"}}, \"ternary\": {\"aaxis\": {\"gridcolor\": \"white\", \"linecolor\": \"white\", \"ticks\": \"\"}, \"baxis\": {\"gridcolor\": \"white\", \"linecolor\": \"white\", \"ticks\": \"\"}, \"bgcolor\": \"#E5ECF6\", \"caxis\": {\"gridcolor\": \"white\", \"linecolor\": \"white\", \"ticks\": \"\"}}, \"title\": {\"x\": 0.05}, \"xaxis\": {\"automargin\": true, \"gridcolor\": \"white\", \"linecolor\": \"white\", \"ticks\": \"\", \"title\": {\"standoff\": 15}, \"zerolinecolor\": \"white\", \"zerolinewidth\": 2}, \"yaxis\": {\"automargin\": true, \"gridcolor\": \"white\", \"linecolor\": \"white\", \"ticks\": \"\", \"title\": {\"standoff\": 15}, \"zerolinecolor\": \"white\", \"zerolinewidth\": 2}}}, \"title\": {\"text\": \"Distribution of the transfer fees within clusters \"}, \"xaxis\": {\"showgrid\": true, \"showticklabels\": false, \"zeroline\": false}, \"yaxis\": {\"gridcolor\": \"rgb(255,255,255)\", \"zeroline\": true}},\n",
       "                        {\"responsive\": true}\n",
       "                    ).then(function(){\n",
       "                            \n",
       "var gd = document.getElementById('21e3e606-5ef3-4ebc-81bd-e18406954102');\n",
       "var x = new MutationObserver(function (mutations, observer) {{\n",
       "        var display = window.getComputedStyle(gd).display;\n",
       "        if (!display || display === 'none') {{\n",
       "            console.log([gd, 'removed!']);\n",
       "            Plotly.purge(gd);\n",
       "            observer.disconnect();\n",
       "        }}\n",
       "}});\n",
       "\n",
       "// Listen for the removal of the full notebook cells\n",
       "var notebookContainer = gd.closest('#notebook-container');\n",
       "if (notebookContainer) {{\n",
       "    x.observe(notebookContainer, {childList: true});\n",
       "}}\n",
       "\n",
       "// Listen for the clearing of the current output cell\n",
       "var outputEl = gd.closest('.output');\n",
       "if (outputEl) {{\n",
       "    x.observe(outputEl, {childList: true});\n",
       "}}\n",
       "\n",
       "                        })\n",
       "                };\n",
       "                });\n",
       "            </script>\n",
       "        </div>"
      ]
     },
     "metadata": {},
     "output_type": "display_data"
    }
   ],
   "source": [
    "fig.update_layout(\n",
    "    xaxis=dict(showgrid=True, zeroline=False, showticklabels=False),\n",
    "    yaxis=dict(zeroline=True, gridcolor='rgb(255,255,255)'),\n",
    "    paper_bgcolor='rgb(255,255,255)',\n",
    "    plot_bgcolor='rgb(255,255,255)',     title=\"Distribution of the transfer fees within clusters \",\n",
    ")\n",
    "\n",
    "fig.show()"
   ]
  },
  {
   "cell_type": "code",
   "execution_count": 53,
   "metadata": {
    "collapsed": true
   },
   "outputs": [
    {
     "data": {
      "text/html": [
       "<div>\n",
       "<style scoped>\n",
       "    .dataframe tbody tr th:only-of-type {\n",
       "        vertical-align: middle;\n",
       "    }\n",
       "\n",
       "    .dataframe tbody tr th {\n",
       "        vertical-align: top;\n",
       "    }\n",
       "\n",
       "    .dataframe thead th {\n",
       "        text-align: right;\n",
       "    }\n",
       "</style>\n",
       "<table border=\"1\" class=\"dataframe\">\n",
       "  <thead>\n",
       "    <tr style=\"text-align: right;\">\n",
       "      <th></th>\n",
       "      <th>Player</th>\n",
       "      <th>Market value</th>\n",
       "      <th>Team</th>\n",
       "      <th>Position</th>\n",
       "    </tr>\n",
       "  </thead>\n",
       "  <tbody>\n",
       "    <tr>\n",
       "      <th>272</th>\n",
       "      <td>E. Shlyakov</td>\n",
       "      <td>600000</td>\n",
       "      <td>SKA-Khabarovsk</td>\n",
       "      <td>LB, RB</td>\n",
       "    </tr>\n",
       "    <tr>\n",
       "      <th>265</th>\n",
       "      <td>E. Oancea</td>\n",
       "      <td>600000</td>\n",
       "      <td>SKA-Khabarovsk</td>\n",
       "      <td>LCMF3, LDMF, DMF</td>\n",
       "    </tr>\n",
       "    <tr>\n",
       "      <th>427</th>\n",
       "      <td>M. Gashchenkov</td>\n",
       "      <td>600000</td>\n",
       "      <td>FC Akhmat</td>\n",
       "      <td>DMF, RCMF3, LCMF3</td>\n",
       "    </tr>\n",
       "    <tr>\n",
       "      <th>237</th>\n",
       "      <td>D. Tikhiy</td>\n",
       "      <td>600000</td>\n",
       "      <td>Khimki</td>\n",
       "      <td>RB</td>\n",
       "    </tr>\n",
       "    <tr>\n",
       "      <th>670</th>\n",
       "      <td>V. Poluyakhtov</td>\n",
       "      <td>700000</td>\n",
       "      <td>Krylya Sovetov</td>\n",
       "      <td>LB, RB, LCB3</td>\n",
       "    </tr>\n",
       "    <tr>\n",
       "      <th>695</th>\n",
       "      <td>Y. Gorshkov</td>\n",
       "      <td>700000</td>\n",
       "      <td>Chertanovo</td>\n",
       "      <td>LB</td>\n",
       "    </tr>\n",
       "    <tr>\n",
       "      <th>188</th>\n",
       "      <td>D. Efremov</td>\n",
       "      <td>750000</td>\n",
       "      <td>CSKA Moskva</td>\n",
       "      <td>LWB, RWB, CF</td>\n",
       "    </tr>\n",
       "    <tr>\n",
       "      <th>236</th>\n",
       "      <td>D. Tarasov</td>\n",
       "      <td>750000</td>\n",
       "      <td>NaN</td>\n",
       "      <td>LDMF, RCMF, RDMF</td>\n",
       "    </tr>\n",
       "    <tr>\n",
       "      <th>4</th>\n",
       "      <td>A. Aliev</td>\n",
       "      <td>800000</td>\n",
       "      <td>Ufa</td>\n",
       "      <td>RCMF3, RW, LB5</td>\n",
       "    </tr>\n",
       "    <tr>\n",
       "      <th>371</th>\n",
       "      <td>J. Ananidze</td>\n",
       "      <td>800000</td>\n",
       "      <td>Spartak Moskva</td>\n",
       "      <td>AMF, CF</td>\n",
       "    </tr>\n",
       "    <tr>\n",
       "      <th>24</th>\n",
       "      <td>A. Egorychev</td>\n",
       "      <td>900000</td>\n",
       "      <td>Ural</td>\n",
       "      <td>RCMF, RDMF, LCMF</td>\n",
       "    </tr>\n",
       "    <tr>\n",
       "      <th>682</th>\n",
       "      <td>V. Vasin</td>\n",
       "      <td>1000000</td>\n",
       "      <td>CSKA Moskva</td>\n",
       "      <td>CB, LCB3</td>\n",
       "    </tr>\n",
       "    <tr>\n",
       "      <th>485</th>\n",
       "      <td>Miguel Cardoso</td>\n",
       "      <td>1000000</td>\n",
       "      <td>Dinamo Moskva</td>\n",
       "      <td>RW, LW</td>\n",
       "    </tr>\n",
       "    <tr>\n",
       "      <th>705</th>\n",
       "      <td>Z. Pliev</td>\n",
       "      <td>1000000</td>\n",
       "      <td>Dinamo Moskva</td>\n",
       "      <td>LCB3, LCB</td>\n",
       "    </tr>\n",
       "    <tr>\n",
       "      <th>110</th>\n",
       "      <td>A. Putsko</td>\n",
       "      <td>1000000</td>\n",
       "      <td>Ufa</td>\n",
       "      <td>CB, RCB3</td>\n",
       "    </tr>\n",
       "    <tr>\n",
       "      <th>345</th>\n",
       "      <td>I. Novoseltsev</td>\n",
       "      <td>1000000</td>\n",
       "      <td>Sochi</td>\n",
       "      <td>LCB3, CB</td>\n",
       "    </tr>\n",
       "    <tr>\n",
       "      <th>447</th>\n",
       "      <td>M. Mitrishev</td>\n",
       "      <td>1000000</td>\n",
       "      <td>FC Akhmat</td>\n",
       "      <td>CF, RAMF</td>\n",
       "    </tr>\n",
       "    <tr>\n",
       "      <th>445</th>\n",
       "      <td>M. Merkulov</td>\n",
       "      <td>1000000</td>\n",
       "      <td>Ural</td>\n",
       "      <td>LB</td>\n",
       "    </tr>\n",
       "    <tr>\n",
       "      <th>245</th>\n",
       "      <td>D. Zhivoglyadov</td>\n",
       "      <td>2000000</td>\n",
       "      <td>Lokomotiv Moskva</td>\n",
       "      <td>RB5, RWB, RB</td>\n",
       "    </tr>\n",
       "    <tr>\n",
       "      <th>263</th>\n",
       "      <td>E. Nabiullin</td>\n",
       "      <td>2000000</td>\n",
       "      <td>Sochi</td>\n",
       "      <td>LB, LWB</td>\n",
       "    </tr>\n",
       "    <tr>\n",
       "      <th>191</th>\n",
       "      <td>D. Glushakov</td>\n",
       "      <td>2000000</td>\n",
       "      <td>FC Akhmat</td>\n",
       "      <td>LCMF, LCMF3, RCMF</td>\n",
       "    </tr>\n",
       "    <tr>\n",
       "      <th>405</th>\n",
       "      <td>Kaio</td>\n",
       "      <td>2000000</td>\n",
       "      <td>Krasnodar II</td>\n",
       "      <td>DMF</td>\n",
       "    </tr>\n",
       "    <tr>\n",
       "      <th>586</th>\n",
       "      <td>R. Utsiev</td>\n",
       "      <td>2000000</td>\n",
       "      <td>FC Akhmat</td>\n",
       "      <td>RB5, RB, RW</td>\n",
       "    </tr>\n",
       "    <tr>\n",
       "      <th>220</th>\n",
       "      <td>D. Poloz</td>\n",
       "      <td>2000000</td>\n",
       "      <td>Sochi</td>\n",
       "      <td>CF, LWF</td>\n",
       "    </tr>\n",
       "    <tr>\n",
       "      <th>624</th>\n",
       "      <td>S. Sow</td>\n",
       "      <td>2000000</td>\n",
       "      <td>Nottingham Forest</td>\n",
       "      <td>RCMF, LCMF, RDMF</td>\n",
       "    </tr>\n",
       "    <tr>\n",
       "      <th>618</th>\n",
       "      <td>S. Parshivlyuk</td>\n",
       "      <td>2000000</td>\n",
       "      <td>Dinamo Moskva</td>\n",
       "      <td>RB5, RWB</td>\n",
       "    </tr>\n",
       "    <tr>\n",
       "      <th>531</th>\n",
       "      <td>O. Thill</td>\n",
       "      <td>2000000</td>\n",
       "      <td>Ufa</td>\n",
       "      <td>LCMF, RCMF3, RW</td>\n",
       "    </tr>\n",
       "    <tr>\n",
       "      <th>517</th>\n",
       "      <td>O. Danchenko</td>\n",
       "      <td>3000000</td>\n",
       "      <td>Rubin Kazan'</td>\n",
       "      <td>RW, RB, RWB</td>\n",
       "    </tr>\n",
       "    <tr>\n",
       "      <th>407</th>\n",
       "      <td>L. Djordjević</td>\n",
       "      <td>3000000</td>\n",
       "      <td>Lokomotiv Moskva</td>\n",
       "      <td>CF</td>\n",
       "    </tr>\n",
       "    <tr>\n",
       "      <th>270</th>\n",
       "      <td>E. Rigoni</td>\n",
       "      <td>7000000</td>\n",
       "      <td>Sampdoria</td>\n",
       "      <td>RW, RAMF</td>\n",
       "    </tr>\n",
       "  </tbody>\n",
       "</table>\n",
       "</div>"
      ],
      "text/plain": [
       "              Player  Market value               Team           Position\n",
       "272      E. Shlyakov        600000     SKA-Khabarovsk             LB, RB\n",
       "265        E. Oancea        600000     SKA-Khabarovsk   LCMF3, LDMF, DMF\n",
       "427   M. Gashchenkov        600000          FC Akhmat  DMF, RCMF3, LCMF3\n",
       "237        D. Tikhiy        600000             Khimki                 RB\n",
       "670   V. Poluyakhtov        700000     Krylya Sovetov       LB, RB, LCB3\n",
       "695      Y. Gorshkov        700000         Chertanovo                 LB\n",
       "188       D. Efremov        750000        CSKA Moskva       LWB, RWB, CF\n",
       "236       D. Tarasov        750000                NaN   LDMF, RCMF, RDMF\n",
       "4           A. Aliev        800000                Ufa     RCMF3, RW, LB5\n",
       "371      J. Ananidze        800000     Spartak Moskva            AMF, CF\n",
       "24      A. Egorychev        900000               Ural   RCMF, RDMF, LCMF\n",
       "682         V. Vasin       1000000        CSKA Moskva           CB, LCB3\n",
       "485   Miguel Cardoso       1000000      Dinamo Moskva             RW, LW\n",
       "705         Z. Pliev       1000000      Dinamo Moskva          LCB3, LCB\n",
       "110        A. Putsko       1000000                Ufa           CB, RCB3\n",
       "345   I. Novoseltsev       1000000              Sochi           LCB3, CB\n",
       "447     M. Mitrishev       1000000          FC Akhmat           CF, RAMF\n",
       "445      M. Merkulov       1000000               Ural                 LB\n",
       "245  D. Zhivoglyadov       2000000   Lokomotiv Moskva       RB5, RWB, RB\n",
       "263     E. Nabiullin       2000000              Sochi            LB, LWB\n",
       "191     D. Glushakov       2000000          FC Akhmat  LCMF, LCMF3, RCMF\n",
       "405             Kaio       2000000       Krasnodar II                DMF\n",
       "586        R. Utsiev       2000000          FC Akhmat        RB5, RB, RW\n",
       "220         D. Poloz       2000000              Sochi            CF, LWF\n",
       "624           S. Sow       2000000  Nottingham Forest   RCMF, LCMF, RDMF\n",
       "618   S. Parshivlyuk       2000000      Dinamo Moskva           RB5, RWB\n",
       "531         O. Thill       2000000                Ufa    LCMF, RCMF3, RW\n",
       "517     O. Danchenko       3000000       Rubin Kazan'        RW, RB, RWB\n",
       "407    L. Djordjević       3000000   Lokomotiv Moskva                 CF\n",
       "270        E. Rigoni       7000000          Sampdoria           RW, RAMF"
      ]
     },
     "execution_count": 53,
     "metadata": {},
     "output_type": "execute_result"
    }
   ],
   "source": [
    "data[data['0'] == 17][['Player', 'Market value', 'Team', 'Position']].sort_values(by='Market value').tail(30)"
   ]
  },
  {
   "cell_type": "code",
   "execution_count": 73,
   "metadata": {},
   "outputs": [
    {
     "data": {
      "application/vnd.plotly.v1+json": {
       "config": {
        "plotlyServerURL": "https://plot.ly"
       },
       "data": [
        {
         "alignmentgroup": "True",
         "hoverlabel": {
          "namelength": 0
         },
         "hovertemplate": "Player=%{x}<br>Market value=%{marker.color}",
         "legendgroup": "",
         "marker": {
          "color": [
           6000000,
           50000,
           2000000,
           300000,
           16000000,
           1000000,
           1000000,
           6000000,
           16000000,
           3000000,
           550000,
           400000,
           700000,
           12000000,
           2000000,
           3000000,
           2000000,
           1000000
          ],
          "coloraxis": "coloraxis"
         },
         "name": "",
         "offsetgroup": "",
         "orientation": "v",
         "showlegend": false,
         "textposition": "auto",
         "type": "bar",
         "x": [
          "A. Erokhin",
          "A. Fidler",
          "A. Shvets",
          "Allef",
          "Anton Miranchuk",
          "B. Sarr",
          "E. Markov",
          "E. Shomurodov",
          "F. Chalov",
          "F. Uremović",
          "I. Kukharchuk",
          "I. Umaev",
          "M. Rabiu",
          "M. Suleymanov",
          "Manuel Fernandes",
          "P. Mogilevets",
          "Ravanelli",
          "V. Granat"
         ],
         "xaxis": "x",
         "y": [
          6000000,
          50000,
          2000000,
          300000,
          16000000,
          1000000,
          1000000,
          6000000,
          16000000,
          3000000,
          550000,
          400000,
          700000,
          12000000,
          2000000,
          3000000,
          2000000,
          1000000
         ],
         "yaxis": "y"
        }
       ],
       "layout": {
        "barmode": "relative",
        "coloraxis": {
         "colorbar": {
          "title": {
           "text": "Market value"
          }
         },
         "colorscale": [
          [
           0,
           "#0d0887"
          ],
          [
           0.1111111111111111,
           "#46039f"
          ],
          [
           0.2222222222222222,
           "#7201a8"
          ],
          [
           0.3333333333333333,
           "#9c179e"
          ],
          [
           0.4444444444444444,
           "#bd3786"
          ],
          [
           0.5555555555555556,
           "#d8576b"
          ],
          [
           0.6666666666666666,
           "#ed7953"
          ],
          [
           0.7777777777777778,
           "#fb9f3a"
          ],
          [
           0.8888888888888888,
           "#fdca26"
          ],
          [
           1,
           "#f0f921"
          ]
         ]
        },
        "height": 350,
        "legend": {
         "tracegroupgap": 0
        },
        "paper_bgcolor": "rgb(255,255,255)",
        "plot_bgcolor": "rgb(255,255,255)",
        "template": {
         "data": {
          "bar": [
           {
            "error_x": {
             "color": "#2a3f5f"
            },
            "error_y": {
             "color": "#2a3f5f"
            },
            "marker": {
             "line": {
              "color": "#E5ECF6",
              "width": 0.5
             }
            },
            "type": "bar"
           }
          ],
          "barpolar": [
           {
            "marker": {
             "line": {
              "color": "#E5ECF6",
              "width": 0.5
             }
            },
            "type": "barpolar"
           }
          ],
          "carpet": [
           {
            "aaxis": {
             "endlinecolor": "#2a3f5f",
             "gridcolor": "white",
             "linecolor": "white",
             "minorgridcolor": "white",
             "startlinecolor": "#2a3f5f"
            },
            "baxis": {
             "endlinecolor": "#2a3f5f",
             "gridcolor": "white",
             "linecolor": "white",
             "minorgridcolor": "white",
             "startlinecolor": "#2a3f5f"
            },
            "type": "carpet"
           }
          ],
          "choropleth": [
           {
            "colorbar": {
             "outlinewidth": 0,
             "ticks": ""
            },
            "type": "choropleth"
           }
          ],
          "contour": [
           {
            "colorbar": {
             "outlinewidth": 0,
             "ticks": ""
            },
            "colorscale": [
             [
              0,
              "#0d0887"
             ],
             [
              0.1111111111111111,
              "#46039f"
             ],
             [
              0.2222222222222222,
              "#7201a8"
             ],
             [
              0.3333333333333333,
              "#9c179e"
             ],
             [
              0.4444444444444444,
              "#bd3786"
             ],
             [
              0.5555555555555556,
              "#d8576b"
             ],
             [
              0.6666666666666666,
              "#ed7953"
             ],
             [
              0.7777777777777778,
              "#fb9f3a"
             ],
             [
              0.8888888888888888,
              "#fdca26"
             ],
             [
              1,
              "#f0f921"
             ]
            ],
            "type": "contour"
           }
          ],
          "contourcarpet": [
           {
            "colorbar": {
             "outlinewidth": 0,
             "ticks": ""
            },
            "type": "contourcarpet"
           }
          ],
          "heatmap": [
           {
            "colorbar": {
             "outlinewidth": 0,
             "ticks": ""
            },
            "colorscale": [
             [
              0,
              "#0d0887"
             ],
             [
              0.1111111111111111,
              "#46039f"
             ],
             [
              0.2222222222222222,
              "#7201a8"
             ],
             [
              0.3333333333333333,
              "#9c179e"
             ],
             [
              0.4444444444444444,
              "#bd3786"
             ],
             [
              0.5555555555555556,
              "#d8576b"
             ],
             [
              0.6666666666666666,
              "#ed7953"
             ],
             [
              0.7777777777777778,
              "#fb9f3a"
             ],
             [
              0.8888888888888888,
              "#fdca26"
             ],
             [
              1,
              "#f0f921"
             ]
            ],
            "type": "heatmap"
           }
          ],
          "heatmapgl": [
           {
            "colorbar": {
             "outlinewidth": 0,
             "ticks": ""
            },
            "colorscale": [
             [
              0,
              "#0d0887"
             ],
             [
              0.1111111111111111,
              "#46039f"
             ],
             [
              0.2222222222222222,
              "#7201a8"
             ],
             [
              0.3333333333333333,
              "#9c179e"
             ],
             [
              0.4444444444444444,
              "#bd3786"
             ],
             [
              0.5555555555555556,
              "#d8576b"
             ],
             [
              0.6666666666666666,
              "#ed7953"
             ],
             [
              0.7777777777777778,
              "#fb9f3a"
             ],
             [
              0.8888888888888888,
              "#fdca26"
             ],
             [
              1,
              "#f0f921"
             ]
            ],
            "type": "heatmapgl"
           }
          ],
          "histogram": [
           {
            "marker": {
             "colorbar": {
              "outlinewidth": 0,
              "ticks": ""
             }
            },
            "type": "histogram"
           }
          ],
          "histogram2d": [
           {
            "colorbar": {
             "outlinewidth": 0,
             "ticks": ""
            },
            "colorscale": [
             [
              0,
              "#0d0887"
             ],
             [
              0.1111111111111111,
              "#46039f"
             ],
             [
              0.2222222222222222,
              "#7201a8"
             ],
             [
              0.3333333333333333,
              "#9c179e"
             ],
             [
              0.4444444444444444,
              "#bd3786"
             ],
             [
              0.5555555555555556,
              "#d8576b"
             ],
             [
              0.6666666666666666,
              "#ed7953"
             ],
             [
              0.7777777777777778,
              "#fb9f3a"
             ],
             [
              0.8888888888888888,
              "#fdca26"
             ],
             [
              1,
              "#f0f921"
             ]
            ],
            "type": "histogram2d"
           }
          ],
          "histogram2dcontour": [
           {
            "colorbar": {
             "outlinewidth": 0,
             "ticks": ""
            },
            "colorscale": [
             [
              0,
              "#0d0887"
             ],
             [
              0.1111111111111111,
              "#46039f"
             ],
             [
              0.2222222222222222,
              "#7201a8"
             ],
             [
              0.3333333333333333,
              "#9c179e"
             ],
             [
              0.4444444444444444,
              "#bd3786"
             ],
             [
              0.5555555555555556,
              "#d8576b"
             ],
             [
              0.6666666666666666,
              "#ed7953"
             ],
             [
              0.7777777777777778,
              "#fb9f3a"
             ],
             [
              0.8888888888888888,
              "#fdca26"
             ],
             [
              1,
              "#f0f921"
             ]
            ],
            "type": "histogram2dcontour"
           }
          ],
          "mesh3d": [
           {
            "colorbar": {
             "outlinewidth": 0,
             "ticks": ""
            },
            "type": "mesh3d"
           }
          ],
          "parcoords": [
           {
            "line": {
             "colorbar": {
              "outlinewidth": 0,
              "ticks": ""
             }
            },
            "type": "parcoords"
           }
          ],
          "pie": [
           {
            "automargin": true,
            "type": "pie"
           }
          ],
          "scatter": [
           {
            "marker": {
             "colorbar": {
              "outlinewidth": 0,
              "ticks": ""
             }
            },
            "type": "scatter"
           }
          ],
          "scatter3d": [
           {
            "line": {
             "colorbar": {
              "outlinewidth": 0,
              "ticks": ""
             }
            },
            "marker": {
             "colorbar": {
              "outlinewidth": 0,
              "ticks": ""
             }
            },
            "type": "scatter3d"
           }
          ],
          "scattercarpet": [
           {
            "marker": {
             "colorbar": {
              "outlinewidth": 0,
              "ticks": ""
             }
            },
            "type": "scattercarpet"
           }
          ],
          "scattergeo": [
           {
            "marker": {
             "colorbar": {
              "outlinewidth": 0,
              "ticks": ""
             }
            },
            "type": "scattergeo"
           }
          ],
          "scattergl": [
           {
            "marker": {
             "colorbar": {
              "outlinewidth": 0,
              "ticks": ""
             }
            },
            "type": "scattergl"
           }
          ],
          "scattermapbox": [
           {
            "marker": {
             "colorbar": {
              "outlinewidth": 0,
              "ticks": ""
             }
            },
            "type": "scattermapbox"
           }
          ],
          "scatterpolar": [
           {
            "marker": {
             "colorbar": {
              "outlinewidth": 0,
              "ticks": ""
             }
            },
            "type": "scatterpolar"
           }
          ],
          "scatterpolargl": [
           {
            "marker": {
             "colorbar": {
              "outlinewidth": 0,
              "ticks": ""
             }
            },
            "type": "scatterpolargl"
           }
          ],
          "scatterternary": [
           {
            "marker": {
             "colorbar": {
              "outlinewidth": 0,
              "ticks": ""
             }
            },
            "type": "scatterternary"
           }
          ],
          "surface": [
           {
            "colorbar": {
             "outlinewidth": 0,
             "ticks": ""
            },
            "colorscale": [
             [
              0,
              "#0d0887"
             ],
             [
              0.1111111111111111,
              "#46039f"
             ],
             [
              0.2222222222222222,
              "#7201a8"
             ],
             [
              0.3333333333333333,
              "#9c179e"
             ],
             [
              0.4444444444444444,
              "#bd3786"
             ],
             [
              0.5555555555555556,
              "#d8576b"
             ],
             [
              0.6666666666666666,
              "#ed7953"
             ],
             [
              0.7777777777777778,
              "#fb9f3a"
             ],
             [
              0.8888888888888888,
              "#fdca26"
             ],
             [
              1,
              "#f0f921"
             ]
            ],
            "type": "surface"
           }
          ],
          "table": [
           {
            "cells": {
             "fill": {
              "color": "#EBF0F8"
             },
             "line": {
              "color": "white"
             }
            },
            "header": {
             "fill": {
              "color": "#C8D4E3"
             },
             "line": {
              "color": "white"
             }
            },
            "type": "table"
           }
          ]
         },
         "layout": {
          "annotationdefaults": {
           "arrowcolor": "#2a3f5f",
           "arrowhead": 0,
           "arrowwidth": 1
          },
          "coloraxis": {
           "colorbar": {
            "outlinewidth": 0,
            "ticks": ""
           }
          },
          "colorscale": {
           "diverging": [
            [
             0,
             "#8e0152"
            ],
            [
             0.1,
             "#c51b7d"
            ],
            [
             0.2,
             "#de77ae"
            ],
            [
             0.3,
             "#f1b6da"
            ],
            [
             0.4,
             "#fde0ef"
            ],
            [
             0.5,
             "#f7f7f7"
            ],
            [
             0.6,
             "#e6f5d0"
            ],
            [
             0.7,
             "#b8e186"
            ],
            [
             0.8,
             "#7fbc41"
            ],
            [
             0.9,
             "#4d9221"
            ],
            [
             1,
             "#276419"
            ]
           ],
           "sequential": [
            [
             0,
             "#0d0887"
            ],
            [
             0.1111111111111111,
             "#46039f"
            ],
            [
             0.2222222222222222,
             "#7201a8"
            ],
            [
             0.3333333333333333,
             "#9c179e"
            ],
            [
             0.4444444444444444,
             "#bd3786"
            ],
            [
             0.5555555555555556,
             "#d8576b"
            ],
            [
             0.6666666666666666,
             "#ed7953"
            ],
            [
             0.7777777777777778,
             "#fb9f3a"
            ],
            [
             0.8888888888888888,
             "#fdca26"
            ],
            [
             1,
             "#f0f921"
            ]
           ],
           "sequentialminus": [
            [
             0,
             "#0d0887"
            ],
            [
             0.1111111111111111,
             "#46039f"
            ],
            [
             0.2222222222222222,
             "#7201a8"
            ],
            [
             0.3333333333333333,
             "#9c179e"
            ],
            [
             0.4444444444444444,
             "#bd3786"
            ],
            [
             0.5555555555555556,
             "#d8576b"
            ],
            [
             0.6666666666666666,
             "#ed7953"
            ],
            [
             0.7777777777777778,
             "#fb9f3a"
            ],
            [
             0.8888888888888888,
             "#fdca26"
            ],
            [
             1,
             "#f0f921"
            ]
           ]
          },
          "colorway": [
           "#636efa",
           "#EF553B",
           "#00cc96",
           "#ab63fa",
           "#FFA15A",
           "#19d3f3",
           "#FF6692",
           "#B6E880",
           "#FF97FF",
           "#FECB52"
          ],
          "font": {
           "color": "#2a3f5f"
          },
          "geo": {
           "bgcolor": "white",
           "lakecolor": "white",
           "landcolor": "#E5ECF6",
           "showlakes": true,
           "showland": true,
           "subunitcolor": "white"
          },
          "hoverlabel": {
           "align": "left"
          },
          "hovermode": "closest",
          "mapbox": {
           "style": "light"
          },
          "paper_bgcolor": "white",
          "plot_bgcolor": "#E5ECF6",
          "polar": {
           "angularaxis": {
            "gridcolor": "white",
            "linecolor": "white",
            "ticks": ""
           },
           "bgcolor": "#E5ECF6",
           "radialaxis": {
            "gridcolor": "white",
            "linecolor": "white",
            "ticks": ""
           }
          },
          "scene": {
           "xaxis": {
            "backgroundcolor": "#E5ECF6",
            "gridcolor": "white",
            "gridwidth": 2,
            "linecolor": "white",
            "showbackground": true,
            "ticks": "",
            "zerolinecolor": "white"
           },
           "yaxis": {
            "backgroundcolor": "#E5ECF6",
            "gridcolor": "white",
            "gridwidth": 2,
            "linecolor": "white",
            "showbackground": true,
            "ticks": "",
            "zerolinecolor": "white"
           },
           "zaxis": {
            "backgroundcolor": "#E5ECF6",
            "gridcolor": "white",
            "gridwidth": 2,
            "linecolor": "white",
            "showbackground": true,
            "ticks": "",
            "zerolinecolor": "white"
           }
          },
          "shapedefaults": {
           "line": {
            "color": "#2a3f5f"
           }
          },
          "ternary": {
           "aaxis": {
            "gridcolor": "white",
            "linecolor": "white",
            "ticks": ""
           },
           "baxis": {
            "gridcolor": "white",
            "linecolor": "white",
            "ticks": ""
           },
           "bgcolor": "#E5ECF6",
           "caxis": {
            "gridcolor": "white",
            "linecolor": "white",
            "ticks": ""
           }
          },
          "title": {
           "x": 0.05
          },
          "xaxis": {
           "automargin": true,
           "gridcolor": "white",
           "linecolor": "white",
           "ticks": "",
           "title": {
            "standoff": 15
           },
           "zerolinecolor": "white",
           "zerolinewidth": 2
          },
          "yaxis": {
           "automargin": true,
           "gridcolor": "white",
           "linecolor": "white",
           "ticks": "",
           "title": {
            "standoff": 15
           },
           "zerolinecolor": "white",
           "zerolinewidth": 2
          }
         }
        },
        "title": {
         "text": "Distribution of the transfer fees of cluster 18"
        },
        "xaxis": {
         "anchor": "y",
         "domain": [
          0,
          1
         ],
         "title": {
          "text": "Player"
         }
        },
        "yaxis": {
         "anchor": "x",
         "domain": [
          0,
          1
         ],
         "title": {
          "text": "Market value"
         }
        }
       }
      },
      "text/html": [
       "<div>\n",
       "        \n",
       "        \n",
       "            <div id=\"9e7449f5-86ca-4e2b-b089-d036cbcbb9b5\" class=\"plotly-graph-div\" style=\"height:350px; width:100%;\"></div>\n",
       "            <script type=\"text/javascript\">\n",
       "                require([\"plotly\"], function(Plotly) {\n",
       "                    window.PLOTLYENV=window.PLOTLYENV || {};\n",
       "                    \n",
       "                if (document.getElementById(\"9e7449f5-86ca-4e2b-b089-d036cbcbb9b5\")) {\n",
       "                    Plotly.newPlot(\n",
       "                        '9e7449f5-86ca-4e2b-b089-d036cbcbb9b5',\n",
       "                        [{\"alignmentgroup\": \"True\", \"hoverlabel\": {\"namelength\": 0}, \"hovertemplate\": \"Player=%{x}<br>Market value=%{marker.color}\", \"legendgroup\": \"\", \"marker\": {\"color\": [6000000, 50000, 2000000, 300000, 16000000, 1000000, 1000000, 6000000, 16000000, 3000000, 550000, 400000, 700000, 12000000, 2000000, 3000000, 2000000, 1000000], \"coloraxis\": \"coloraxis\"}, \"name\": \"\", \"offsetgroup\": \"\", \"orientation\": \"v\", \"showlegend\": false, \"textposition\": \"auto\", \"type\": \"bar\", \"x\": [\"A. Erokhin\", \"A. Fidler\", \"A. Shvets\", \"Allef\", \"Anton Miranchuk\", \"B. Sarr\", \"E. Markov\", \"E. Shomurodov\", \"F. Chalov\", \"F. Uremovi\\u0107\", \"I. Kukharchuk\", \"I. Umaev\", \"M. Rabiu\", \"M. Suleymanov\", \"Manuel Fernandes\", \"P. Mogilevets\", \"Ravanelli\", \"V. Granat\"], \"xaxis\": \"x\", \"y\": [6000000, 50000, 2000000, 300000, 16000000, 1000000, 1000000, 6000000, 16000000, 3000000, 550000, 400000, 700000, 12000000, 2000000, 3000000, 2000000, 1000000], \"yaxis\": \"y\"}],\n",
       "                        {\"barmode\": \"relative\", \"coloraxis\": {\"colorbar\": {\"title\": {\"text\": \"Market value\"}}, \"colorscale\": [[0.0, \"#0d0887\"], [0.1111111111111111, \"#46039f\"], [0.2222222222222222, \"#7201a8\"], [0.3333333333333333, \"#9c179e\"], [0.4444444444444444, \"#bd3786\"], [0.5555555555555556, \"#d8576b\"], [0.6666666666666666, \"#ed7953\"], [0.7777777777777778, \"#fb9f3a\"], [0.8888888888888888, \"#fdca26\"], [1.0, \"#f0f921\"]]}, \"height\": 350, \"legend\": {\"tracegroupgap\": 0}, \"paper_bgcolor\": \"rgb(255,255,255)\", \"plot_bgcolor\": \"rgb(255,255,255)\", \"template\": {\"data\": {\"bar\": [{\"error_x\": {\"color\": \"#2a3f5f\"}, \"error_y\": {\"color\": \"#2a3f5f\"}, \"marker\": {\"line\": {\"color\": \"#E5ECF6\", \"width\": 0.5}}, \"type\": \"bar\"}], \"barpolar\": [{\"marker\": {\"line\": {\"color\": \"#E5ECF6\", \"width\": 0.5}}, \"type\": \"barpolar\"}], \"carpet\": [{\"aaxis\": {\"endlinecolor\": \"#2a3f5f\", \"gridcolor\": \"white\", \"linecolor\": \"white\", \"minorgridcolor\": \"white\", \"startlinecolor\": \"#2a3f5f\"}, \"baxis\": {\"endlinecolor\": \"#2a3f5f\", \"gridcolor\": \"white\", \"linecolor\": \"white\", \"minorgridcolor\": \"white\", \"startlinecolor\": \"#2a3f5f\"}, \"type\": \"carpet\"}], \"choropleth\": [{\"colorbar\": {\"outlinewidth\": 0, \"ticks\": \"\"}, \"type\": \"choropleth\"}], \"contour\": [{\"colorbar\": {\"outlinewidth\": 0, \"ticks\": \"\"}, \"colorscale\": [[0.0, \"#0d0887\"], [0.1111111111111111, \"#46039f\"], [0.2222222222222222, \"#7201a8\"], [0.3333333333333333, \"#9c179e\"], [0.4444444444444444, \"#bd3786\"], [0.5555555555555556, \"#d8576b\"], [0.6666666666666666, \"#ed7953\"], [0.7777777777777778, \"#fb9f3a\"], [0.8888888888888888, \"#fdca26\"], [1.0, \"#f0f921\"]], \"type\": \"contour\"}], \"contourcarpet\": [{\"colorbar\": {\"outlinewidth\": 0, \"ticks\": \"\"}, \"type\": \"contourcarpet\"}], \"heatmap\": [{\"colorbar\": {\"outlinewidth\": 0, \"ticks\": \"\"}, \"colorscale\": [[0.0, \"#0d0887\"], [0.1111111111111111, \"#46039f\"], [0.2222222222222222, \"#7201a8\"], [0.3333333333333333, \"#9c179e\"], [0.4444444444444444, \"#bd3786\"], [0.5555555555555556, \"#d8576b\"], [0.6666666666666666, \"#ed7953\"], [0.7777777777777778, \"#fb9f3a\"], [0.8888888888888888, \"#fdca26\"], [1.0, \"#f0f921\"]], \"type\": \"heatmap\"}], \"heatmapgl\": [{\"colorbar\": {\"outlinewidth\": 0, \"ticks\": \"\"}, \"colorscale\": [[0.0, \"#0d0887\"], [0.1111111111111111, \"#46039f\"], [0.2222222222222222, \"#7201a8\"], [0.3333333333333333, \"#9c179e\"], [0.4444444444444444, \"#bd3786\"], [0.5555555555555556, \"#d8576b\"], [0.6666666666666666, \"#ed7953\"], [0.7777777777777778, \"#fb9f3a\"], [0.8888888888888888, \"#fdca26\"], [1.0, \"#f0f921\"]], \"type\": \"heatmapgl\"}], \"histogram\": [{\"marker\": {\"colorbar\": {\"outlinewidth\": 0, \"ticks\": \"\"}}, \"type\": \"histogram\"}], \"histogram2d\": [{\"colorbar\": {\"outlinewidth\": 0, \"ticks\": \"\"}, \"colorscale\": [[0.0, \"#0d0887\"], [0.1111111111111111, \"#46039f\"], [0.2222222222222222, \"#7201a8\"], [0.3333333333333333, \"#9c179e\"], [0.4444444444444444, \"#bd3786\"], [0.5555555555555556, \"#d8576b\"], [0.6666666666666666, \"#ed7953\"], [0.7777777777777778, \"#fb9f3a\"], [0.8888888888888888, \"#fdca26\"], [1.0, \"#f0f921\"]], \"type\": \"histogram2d\"}], \"histogram2dcontour\": [{\"colorbar\": {\"outlinewidth\": 0, \"ticks\": \"\"}, \"colorscale\": [[0.0, \"#0d0887\"], [0.1111111111111111, \"#46039f\"], [0.2222222222222222, \"#7201a8\"], [0.3333333333333333, \"#9c179e\"], [0.4444444444444444, \"#bd3786\"], [0.5555555555555556, \"#d8576b\"], [0.6666666666666666, \"#ed7953\"], [0.7777777777777778, \"#fb9f3a\"], [0.8888888888888888, \"#fdca26\"], [1.0, \"#f0f921\"]], \"type\": \"histogram2dcontour\"}], \"mesh3d\": [{\"colorbar\": {\"outlinewidth\": 0, \"ticks\": \"\"}, \"type\": \"mesh3d\"}], \"parcoords\": [{\"line\": {\"colorbar\": {\"outlinewidth\": 0, \"ticks\": \"\"}}, \"type\": \"parcoords\"}], \"pie\": [{\"automargin\": true, \"type\": \"pie\"}], \"scatter\": [{\"marker\": {\"colorbar\": {\"outlinewidth\": 0, \"ticks\": \"\"}}, \"type\": \"scatter\"}], \"scatter3d\": [{\"line\": {\"colorbar\": {\"outlinewidth\": 0, \"ticks\": \"\"}}, \"marker\": {\"colorbar\": {\"outlinewidth\": 0, \"ticks\": \"\"}}, \"type\": \"scatter3d\"}], \"scattercarpet\": [{\"marker\": {\"colorbar\": {\"outlinewidth\": 0, \"ticks\": \"\"}}, \"type\": \"scattercarpet\"}], \"scattergeo\": [{\"marker\": {\"colorbar\": {\"outlinewidth\": 0, \"ticks\": \"\"}}, \"type\": \"scattergeo\"}], \"scattergl\": [{\"marker\": {\"colorbar\": {\"outlinewidth\": 0, \"ticks\": \"\"}}, \"type\": \"scattergl\"}], \"scattermapbox\": [{\"marker\": {\"colorbar\": {\"outlinewidth\": 0, \"ticks\": \"\"}}, \"type\": \"scattermapbox\"}], \"scatterpolar\": [{\"marker\": {\"colorbar\": {\"outlinewidth\": 0, \"ticks\": \"\"}}, \"type\": \"scatterpolar\"}], \"scatterpolargl\": [{\"marker\": {\"colorbar\": {\"outlinewidth\": 0, \"ticks\": \"\"}}, \"type\": \"scatterpolargl\"}], \"scatterternary\": [{\"marker\": {\"colorbar\": {\"outlinewidth\": 0, \"ticks\": \"\"}}, \"type\": \"scatterternary\"}], \"surface\": [{\"colorbar\": {\"outlinewidth\": 0, \"ticks\": \"\"}, \"colorscale\": [[0.0, \"#0d0887\"], [0.1111111111111111, \"#46039f\"], [0.2222222222222222, \"#7201a8\"], [0.3333333333333333, \"#9c179e\"], [0.4444444444444444, \"#bd3786\"], [0.5555555555555556, \"#d8576b\"], [0.6666666666666666, \"#ed7953\"], [0.7777777777777778, \"#fb9f3a\"], [0.8888888888888888, \"#fdca26\"], [1.0, \"#f0f921\"]], \"type\": \"surface\"}], \"table\": [{\"cells\": {\"fill\": {\"color\": \"#EBF0F8\"}, \"line\": {\"color\": \"white\"}}, \"header\": {\"fill\": {\"color\": \"#C8D4E3\"}, \"line\": {\"color\": \"white\"}}, \"type\": \"table\"}]}, \"layout\": {\"annotationdefaults\": {\"arrowcolor\": \"#2a3f5f\", \"arrowhead\": 0, \"arrowwidth\": 1}, \"coloraxis\": {\"colorbar\": {\"outlinewidth\": 0, \"ticks\": \"\"}}, \"colorscale\": {\"diverging\": [[0, \"#8e0152\"], [0.1, \"#c51b7d\"], [0.2, \"#de77ae\"], [0.3, \"#f1b6da\"], [0.4, \"#fde0ef\"], [0.5, \"#f7f7f7\"], [0.6, \"#e6f5d0\"], [0.7, \"#b8e186\"], [0.8, \"#7fbc41\"], [0.9, \"#4d9221\"], [1, \"#276419\"]], \"sequential\": [[0.0, \"#0d0887\"], [0.1111111111111111, \"#46039f\"], [0.2222222222222222, \"#7201a8\"], [0.3333333333333333, \"#9c179e\"], [0.4444444444444444, \"#bd3786\"], [0.5555555555555556, \"#d8576b\"], [0.6666666666666666, \"#ed7953\"], [0.7777777777777778, \"#fb9f3a\"], [0.8888888888888888, \"#fdca26\"], [1.0, \"#f0f921\"]], \"sequentialminus\": [[0.0, \"#0d0887\"], [0.1111111111111111, \"#46039f\"], [0.2222222222222222, \"#7201a8\"], [0.3333333333333333, \"#9c179e\"], [0.4444444444444444, \"#bd3786\"], [0.5555555555555556, \"#d8576b\"], [0.6666666666666666, \"#ed7953\"], [0.7777777777777778, \"#fb9f3a\"], [0.8888888888888888, \"#fdca26\"], [1.0, \"#f0f921\"]]}, \"colorway\": [\"#636efa\", \"#EF553B\", \"#00cc96\", \"#ab63fa\", \"#FFA15A\", \"#19d3f3\", \"#FF6692\", \"#B6E880\", \"#FF97FF\", \"#FECB52\"], \"font\": {\"color\": \"#2a3f5f\"}, \"geo\": {\"bgcolor\": \"white\", \"lakecolor\": \"white\", \"landcolor\": \"#E5ECF6\", \"showlakes\": true, \"showland\": true, \"subunitcolor\": \"white\"}, \"hoverlabel\": {\"align\": \"left\"}, \"hovermode\": \"closest\", \"mapbox\": {\"style\": \"light\"}, \"paper_bgcolor\": \"white\", \"plot_bgcolor\": \"#E5ECF6\", \"polar\": {\"angularaxis\": {\"gridcolor\": \"white\", \"linecolor\": \"white\", \"ticks\": \"\"}, \"bgcolor\": \"#E5ECF6\", \"radialaxis\": {\"gridcolor\": \"white\", \"linecolor\": \"white\", \"ticks\": \"\"}}, \"scene\": {\"xaxis\": {\"backgroundcolor\": \"#E5ECF6\", \"gridcolor\": \"white\", \"gridwidth\": 2, \"linecolor\": \"white\", \"showbackground\": true, \"ticks\": \"\", \"zerolinecolor\": \"white\"}, \"yaxis\": {\"backgroundcolor\": \"#E5ECF6\", \"gridcolor\": \"white\", \"gridwidth\": 2, \"linecolor\": \"white\", \"showbackground\": true, \"ticks\": \"\", \"zerolinecolor\": \"white\"}, \"zaxis\": {\"backgroundcolor\": \"#E5ECF6\", \"gridcolor\": \"white\", \"gridwidth\": 2, \"linecolor\": \"white\", \"showbackground\": true, \"ticks\": \"\", \"zerolinecolor\": \"white\"}}, \"shapedefaults\": {\"line\": {\"color\": \"#2a3f5f\"}}, \"ternary\": {\"aaxis\": {\"gridcolor\": \"white\", \"linecolor\": \"white\", \"ticks\": \"\"}, \"baxis\": {\"gridcolor\": \"white\", \"linecolor\": \"white\", \"ticks\": \"\"}, \"bgcolor\": \"#E5ECF6\", \"caxis\": {\"gridcolor\": \"white\", \"linecolor\": \"white\", \"ticks\": \"\"}}, \"title\": {\"x\": 0.05}, \"xaxis\": {\"automargin\": true, \"gridcolor\": \"white\", \"linecolor\": \"white\", \"ticks\": \"\", \"title\": {\"standoff\": 15}, \"zerolinecolor\": \"white\", \"zerolinewidth\": 2}, \"yaxis\": {\"automargin\": true, \"gridcolor\": \"white\", \"linecolor\": \"white\", \"ticks\": \"\", \"title\": {\"standoff\": 15}, \"zerolinecolor\": \"white\", \"zerolinewidth\": 2}}}, \"title\": {\"text\": \"Distribution of the transfer fees of cluster 18\"}, \"xaxis\": {\"anchor\": \"y\", \"domain\": [0.0, 1.0], \"title\": {\"text\": \"Player\"}}, \"yaxis\": {\"anchor\": \"x\", \"domain\": [0.0, 1.0], \"title\": {\"text\": \"Market value\"}}},\n",
       "                        {\"responsive\": true}\n",
       "                    ).then(function(){\n",
       "                            \n",
       "var gd = document.getElementById('9e7449f5-86ca-4e2b-b089-d036cbcbb9b5');\n",
       "var x = new MutationObserver(function (mutations, observer) {{\n",
       "        var display = window.getComputedStyle(gd).display;\n",
       "        if (!display || display === 'none') {{\n",
       "            console.log([gd, 'removed!']);\n",
       "            Plotly.purge(gd);\n",
       "            observer.disconnect();\n",
       "        }}\n",
       "}});\n",
       "\n",
       "// Listen for the removal of the full notebook cells\n",
       "var notebookContainer = gd.closest('#notebook-container');\n",
       "if (notebookContainer) {{\n",
       "    x.observe(notebookContainer, {childList: true});\n",
       "}}\n",
       "\n",
       "// Listen for the clearing of the current output cell\n",
       "var outputEl = gd.closest('.output');\n",
       "if (outputEl) {{\n",
       "    x.observe(outputEl, {childList: true});\n",
       "}}\n",
       "\n",
       "                        })\n",
       "                };\n",
       "                });\n",
       "            </script>\n",
       "        </div>"
      ]
     },
     "metadata": {},
     "output_type": "display_data"
    }
   ],
   "source": [
    "from sklearn.utils import shuffle\n",
    "\n",
    "data_bar = data[data['0'] == 18][['Player', 'Market value', 'Team', 'Position']]\n",
    "fig = px.bar(data_bar, x='Player', y='Market value', color='Market value',height=350, title=\"Distribution of the transfer fees of cluster 18\")\n",
    "fig.update_layout(\n",
    "    paper_bgcolor='rgb(255,255,255)',\n",
    "    plot_bgcolor='rgb(255,255,255)'\n",
    ")\n",
    "\n",
    "fig.show()\n"
   ]
  },
  {
   "cell_type": "code",
   "execution_count": 68,
   "metadata": {},
   "outputs": [
    {
     "data": {
      "text/html": [
       "<div>\n",
       "<style scoped>\n",
       "    .dataframe tbody tr th:only-of-type {\n",
       "        vertical-align: middle;\n",
       "    }\n",
       "\n",
       "    .dataframe tbody tr th {\n",
       "        vertical-align: top;\n",
       "    }\n",
       "\n",
       "    .dataframe thead th {\n",
       "        text-align: right;\n",
       "    }\n",
       "</style>\n",
       "<table border=\"1\" class=\"dataframe\">\n",
       "  <thead>\n",
       "    <tr style=\"text-align: right;\">\n",
       "      <th></th>\n",
       "      <th>Unnamed: 0</th>\n",
       "      <th>Player</th>\n",
       "      <th>Market value</th>\n",
       "      <th>Team</th>\n",
       "      <th>Matches played</th>\n",
       "      <th>Minutes played</th>\n",
       "      <th>On loan</th>\n",
       "      <th>Position</th>\n",
       "      <th>0</th>\n",
       "    </tr>\n",
       "  </thead>\n",
       "  <tbody>\n",
       "    <tr>\n",
       "      <th>270</th>\n",
       "      <td>270</td>\n",
       "      <td>E. Rigoni</td>\n",
       "      <td>7000000</td>\n",
       "      <td>Sampdoria</td>\n",
       "      <td>11</td>\n",
       "      <td>743</td>\n",
       "      <td>yes</td>\n",
       "      <td>RW, RAMF</td>\n",
       "      <td>17</td>\n",
       "    </tr>\n",
       "  </tbody>\n",
       "</table>\n",
       "</div>"
      ],
      "text/plain": [
       "     Unnamed: 0     Player  Market value       Team  Matches played  \\\n",
       "270         270  E. Rigoni       7000000  Sampdoria              11   \n",
       "\n",
       "     Minutes played On loan  Position   0  \n",
       "270             743     yes  RW, RAMF  17  "
      ]
     },
     "execution_count": 68,
     "metadata": {},
     "output_type": "execute_result"
    }
   ],
   "source": [
    "data[data['Player']== 'E. Rigoni']"
   ]
  },
  {
   "cell_type": "code",
   "execution_count": 78,
   "metadata": {},
   "outputs": [
    {
     "data": {
      "text/html": [
       "<div>\n",
       "<style scoped>\n",
       "    .dataframe tbody tr th:only-of-type {\n",
       "        vertical-align: middle;\n",
       "    }\n",
       "\n",
       "    .dataframe tbody tr th {\n",
       "        vertical-align: top;\n",
       "    }\n",
       "\n",
       "    .dataframe thead th {\n",
       "        text-align: right;\n",
       "    }\n",
       "</style>\n",
       "<table border=\"1\" class=\"dataframe\">\n",
       "  <thead>\n",
       "    <tr style=\"text-align: right;\">\n",
       "      <th></th>\n",
       "      <th>Cluster</th>\n",
       "      <th>Market value</th>\n",
       "    </tr>\n",
       "  </thead>\n",
       "  <tbody>\n",
       "    <tr>\n",
       "      <th>0</th>\n",
       "      <td>0</td>\n",
       "      <td>35725000</td>\n",
       "    </tr>\n",
       "    <tr>\n",
       "      <th>1</th>\n",
       "      <td>1</td>\n",
       "      <td>29900000</td>\n",
       "    </tr>\n",
       "    <tr>\n",
       "      <th>2</th>\n",
       "      <td>2</td>\n",
       "      <td>3600000</td>\n",
       "    </tr>\n",
       "    <tr>\n",
       "      <th>3</th>\n",
       "      <td>3</td>\n",
       "      <td>58150000</td>\n",
       "    </tr>\n",
       "    <tr>\n",
       "      <th>4</th>\n",
       "      <td>4</td>\n",
       "      <td>114925000</td>\n",
       "    </tr>\n",
       "    <tr>\n",
       "      <th>5</th>\n",
       "      <td>5</td>\n",
       "      <td>136700000</td>\n",
       "    </tr>\n",
       "    <tr>\n",
       "      <th>6</th>\n",
       "      <td>6</td>\n",
       "      <td>46600000</td>\n",
       "    </tr>\n",
       "    <tr>\n",
       "      <th>7</th>\n",
       "      <td>7</td>\n",
       "      <td>15600000</td>\n",
       "    </tr>\n",
       "    <tr>\n",
       "      <th>8</th>\n",
       "      <td>8</td>\n",
       "      <td>85700000</td>\n",
       "    </tr>\n",
       "    <tr>\n",
       "      <th>9</th>\n",
       "      <td>9</td>\n",
       "      <td>48350000</td>\n",
       "    </tr>\n",
       "    <tr>\n",
       "      <th>10</th>\n",
       "      <td>10</td>\n",
       "      <td>53025000</td>\n",
       "    </tr>\n",
       "    <tr>\n",
       "      <th>11</th>\n",
       "      <td>11</td>\n",
       "      <td>20675000</td>\n",
       "    </tr>\n",
       "    <tr>\n",
       "      <th>12</th>\n",
       "      <td>12</td>\n",
       "      <td>40900000</td>\n",
       "    </tr>\n",
       "    <tr>\n",
       "      <th>13</th>\n",
       "      <td>13</td>\n",
       "      <td>38300000</td>\n",
       "    </tr>\n",
       "    <tr>\n",
       "      <th>14</th>\n",
       "      <td>14</td>\n",
       "      <td>52925000</td>\n",
       "    </tr>\n",
       "    <tr>\n",
       "      <th>15</th>\n",
       "      <td>15</td>\n",
       "      <td>16900000</td>\n",
       "    </tr>\n",
       "    <tr>\n",
       "      <th>16</th>\n",
       "      <td>16</td>\n",
       "      <td>6150000</td>\n",
       "    </tr>\n",
       "    <tr>\n",
       "      <th>17</th>\n",
       "      <td>17</td>\n",
       "      <td>60900000</td>\n",
       "    </tr>\n",
       "    <tr>\n",
       "      <th>18</th>\n",
       "      <td>18</td>\n",
       "      <td>73000000</td>\n",
       "    </tr>\n",
       "    <tr>\n",
       "      <th>19</th>\n",
       "      <td>19</td>\n",
       "      <td>13175000</td>\n",
       "    </tr>\n",
       "    <tr>\n",
       "      <th>20</th>\n",
       "      <td>20</td>\n",
       "      <td>8875000</td>\n",
       "    </tr>\n",
       "    <tr>\n",
       "      <th>21</th>\n",
       "      <td>21</td>\n",
       "      <td>6850000</td>\n",
       "    </tr>\n",
       "    <tr>\n",
       "      <th>22</th>\n",
       "      <td>22</td>\n",
       "      <td>69525000</td>\n",
       "    </tr>\n",
       "  </tbody>\n",
       "</table>\n",
       "</div>"
      ],
      "text/plain": [
       "    Cluster  Market value\n",
       "0         0      35725000\n",
       "1         1      29900000\n",
       "2         2       3600000\n",
       "3         3      58150000\n",
       "4         4     114925000\n",
       "5         5     136700000\n",
       "6         6      46600000\n",
       "7         7      15600000\n",
       "8         8      85700000\n",
       "9         9      48350000\n",
       "10       10      53025000\n",
       "11       11      20675000\n",
       "12       12      40900000\n",
       "13       13      38300000\n",
       "14       14      52925000\n",
       "15       15      16900000\n",
       "16       16       6150000\n",
       "17       17      60900000\n",
       "18       18      73000000\n",
       "19       19      13175000\n",
       "20       20       8875000\n",
       "21       21       6850000\n",
       "22       22      69525000"
      ]
     },
     "execution_count": 78,
     "metadata": {},
     "output_type": "execute_result"
    }
   ],
   "source": [
    "data = data.rename(columns={'0':'Cluster'})\n",
    "data[['Player', 'Market value', 'Team', 'Position','Cluster']].groupby(['Cluster'], as_index=False).sum()"
   ]
  },
  {
   "cell_type": "code",
   "execution_count": null,
   "metadata": {},
   "outputs": [],
   "source": []
  }
 ],
 "metadata": {
  "kernelspec": {
   "display_name": "Python 3",
   "language": "python",
   "name": "python3"
  },
  "language_info": {
   "codemirror_mode": {
    "name": "ipython",
    "version": 3
   },
   "file_extension": ".py",
   "mimetype": "text/x-python",
   "name": "python",
   "nbconvert_exporter": "python",
   "pygments_lexer": "ipython3",
   "version": "3.7.3"
  }
 },
 "nbformat": 4,
 "nbformat_minor": 2
}
